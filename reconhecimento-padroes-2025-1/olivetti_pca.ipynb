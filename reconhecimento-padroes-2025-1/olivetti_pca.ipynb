{
 "cells": [
  {
   "cell_type": "markdown",
   "id": "412b417a",
   "metadata": {},
   "source": [
    "# Exercício PCA - Olivetti Faces"
   ]
  },
  {
   "cell_type": "markdown",
   "id": "dee3c2ed",
   "metadata": {},
   "source": [
    "Este notebook demonstra a aplicação do **PCA** à base de faces Olivetti usando o `scikit-learn`."
   ]
  },
  {
   "cell_type": "code",
   "execution_count": null,
   "id": "e825f9bb",
   "metadata": {},
   "outputs": [],
   "source": [
    "import matplotlib.pyplot as plt\n",
    "from sklearn.datasets import fetch_olivetti_faces\n",
    "from sklearn.decomposition import PCA\n",
    "import numpy as np\n"
   ]
  },
  {
   "cell_type": "code",
   "execution_count": null,
   "id": "988e7710",
   "metadata": {},
   "outputs": [],
   "source": [
    "dataset = fetch_olivetti_faces(shuffle=True, random_state=42)\n",
    "X = dataset.data\n",
    "y = dataset.target\n",
    "n_samples, n_features = X.shape\n",
    "print('Samples:', n_samples, 'Features:', n_features)\n"
   ]
  },
  {
   "cell_type": "code",
   "execution_count": null,
   "id": "0e51d50d",
   "metadata": {},
   "outputs": [],
   "source": [
    "def show_image(x):\n",
    "    img = x.reshape(64, 64)\n",
    "    plt.imshow(img, cmap='gray')\n",
    "    plt.axis('off')\n",
    "    plt.show()\n"
   ]
  },
  {
   "cell_type": "code",
   "execution_count": null,
   "id": "0b17e9f5",
   "metadata": {},
   "outputs": [],
   "source": [
    "show_image(X[0])"
   ]
  },
  {
   "cell_type": "code",
   "execution_count": null,
   "id": "8f57c6a4",
   "metadata": {},
   "outputs": [],
   "source": [
    "pca = PCA()\n",
    "pca.fit(X)\n",
    "explained = np.cumsum(pca.explained_variance_ratio_)\n",
    "min_dim = np.argmax(explained >= 0.95) + 1\n",
    "print('Menor dimensão para 95% da variância:', min_dim)\n"
   ]
  },
  {
   "cell_type": "code",
   "execution_count": null,
   "id": "5312eb7b",
   "metadata": {},
   "outputs": [],
   "source": [
    "X_pca = pca.transform(X)[:, :2]\n",
    "plt.figure(figsize=(8,6))\n",
    "for label in np.unique(y):\n",
    "    plt.scatter(X_pca[y==label,0], X_pca[y==label,1], s=20, label=str(label))\n",
    "plt.legend(bbox_to_anchor=(1.05, 1), loc='upper left')\n",
    "plt.xlabel('PC1')\n",
    "plt.ylabel('PC2')\n",
    "plt.title('Projeção PCA das faces')\n",
    "plt.tight_layout()\n",
    "plt.show()\n"
   ]
  }
 ],
 "metadata": {
  "kernelspec": {
   "display_name": "Python 3 (ipykernel)",
   "language": "python",
   "name": "python3"
  },
  "language_info": {
   "name": "python",
   "version": "3.11"
  }
 },
 "nbformat": 4,
 "nbformat_minor": 5
}
