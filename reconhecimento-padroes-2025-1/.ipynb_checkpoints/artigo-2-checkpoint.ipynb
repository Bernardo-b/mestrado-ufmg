{
 "cells": [
  {
   "cell_type": "code",
   "execution_count": 1,
   "metadata": {},
   "outputs": [],
   "source": [
    "import numpy as np\n",
    "from scipy.optimize import minimize\n",
    "\n",
    "# PDF multivariada\n",
    "def pdfnvar(x, m, K, n=2):\n",
    "    x = np.asarray(x).reshape(-1)\n",
    "    m = np.asarray(m).reshape(-1)\n",
    "    diff = x - m\n",
    "    exponent = -0.5 * np.dot(diff.T, np.linalg.solve(K, diff))\n",
    "    denominator = np.sqrt((2 * np.pi) ** n * np.linalg.det(K))\n",
    "    return (1 / denominator) * np.exp(exponent)\n",
    "\n",
    "def project_data(X_source, X_ref, y_ref, k_proj, h_proj):\n",
    "    dist = np.sum((X_source[:, None, :] - X_ref[None, :, :])**2, axis=2)\n",
    "    k_proj = min(k_proj, X_ref.shape[0])\n",
    "    idx = np.argsort(dist, axis=1)[:, :k_proj]\n",
    "    n_features = X_ref.shape[1]\n",
    "    K_mat = h_proj * np.eye(n_features)\n",
    "    proj = []\n",
    "    for i, indices_for_xt in enumerate(idx):\n",
    "        xt = X_source[i]\n",
    "        sum_pos = sum(pdfnvar(X_ref[j], xt, K_mat, n_features) for j in indices_for_xt if y_ref[j] == 1)\n",
    "        sum_neg = sum(pdfnvar(X_ref[j], xt, K_mat, n_features) for j in indices_for_xt if y_ref[j] == -1)\n",
    "        proj.append([sum_pos, sum_neg])\n",
    "    return np.array(proj)\n",
    "\n",
    "# Distância entre centróides no espaço Q1, Q2\n",
    "def centroid_distance(X, y, k, h):\n",
    "    X_pos = X[y == 1]\n",
    "    X_neg = X[y == -1]\n",
    "\n",
    "    if X_pos.shape[0] == 0 or X_neg.shape[0] == 0:\n",
    "        return np.inf\n",
    "\n",
    "    proj_pos = project_data(X_pos, X, y, k, h)\n",
    "    proj_neg = project_data(X_neg, X, y, k, h)\n",
    "\n",
    "    if proj_pos.size == 0 or proj_neg.size == 0:\n",
    "        return np.inf\n",
    "\n",
    "    c1 = proj_pos.mean(axis=0)\n",
    "    c2 = proj_neg.mean(axis=0)\n",
    "    return np.linalg.norm(c1 - c2)\n",
    "\n",
    "# Otimiza k e h para minimizar distância entre centróides\n",
    "def optimize_centroid_distance(X, y):\n",
    "    def objective(params):\n",
    "        k = int(np.clip(round(params[0]), 1, 400))\n",
    "        h = 10 ** np.clip(params[1], -5, 2)\n",
    "        return centroid_distance(X, y, k, h)\n",
    "\n",
    "    result = minimize(objective, x0=[10, -1], bounds=[(1, 200), (-5, 1)], method='L-BFGS-B')\n",
    "    best_k = int(round(result.x[0]))\n",
    "    best_h = 10 ** result.x[1]\n",
    "    return best_k, best_h\n",
    "\n",
    "from sklearn.model_selection import train_test_split\n",
    "\n",
    "def knn_grid_search_holdout(X, y, n_k=20, n_h=40, test_size=0.2):\n",
    "    k_values = np.unique(np.round(np.linspace(1, 201, n_k)).astype(int))\n",
    "    h_values = np.logspace(-5, 2, n_h)\n",
    "    X_train, X_test, y_train, y_test = train_test_split(\n",
    "        X, y, test_size=test_size, random_state=42, stratify=y\n",
    "    )\n",
    "\n",
    "    best_score = -np.inf\n",
    "    best_k = None\n",
    "    best_h = None\n",
    "\n",
    "    for k in k_values:\n",
    "        for h in h_values:\n",
    "            proj = project_data(X_test, X_train, y_train, k, h)\n",
    "            y_pred = np.where(proj[:, 0] > proj[:, 1], 1, -1)\n",
    "            score = np.mean(y_test == y_pred)\n",
    "            if score > best_score:\n",
    "                best_score = score\n",
    "                best_k = k\n",
    "                best_h = h\n",
    "\n",
    "    return best_k, best_h"
   ]
  },
  {
   "cell_type": "markdown",
   "metadata": {},
   "source": [
    "----"
   ]
  },
  {
   "cell_type": "markdown",
   "metadata": {},
   "source": [
    "## Importação de dados"
   ]
  },
  {
   "cell_type": "code",
   "execution_count": 3,
   "metadata": {},
   "outputs": [],
   "source": [
    "import pandas as pd\n",
    "from scipy.io import arff\n",
    "from sklearn.preprocessing import StandardScaler\n",
    "import numpy as np\n",
    "\n",
    "datasets = {}\n",
    "\n",
    "dataset_name_adult = 'adult_income'\n",
    "data_path_adult_train = 'data/artigo2/adult/adult.data'\n",
    "data_path_adult_test = 'data/artigo2/adult/adult.test'\n",
    "\n",
    "column_names_adult = [\n",
    "    'age', 'workclass', 'fnlwgt', 'education', 'education-num',\n",
    "    'marital-status', 'occupation', 'relationship', 'race', 'sex',\n",
    "    'capital-gain', 'capital-loss', 'hours-per-week', 'native-country',\n",
    "    'income_bracket'\n",
    "]\n",
    "\n",
    "df_adult_train = pd.DataFrame()\n",
    "df_adult_test = pd.DataFrame()\n",
    "\n",
    "try:\n",
    "    df_adult_train = pd.read_csv(data_path_adult_train, header=None, names=column_names_adult,\n",
    "                                 na_values=' ?', skipinitialspace=True)\n",
    "    df_adult_test = pd.read_csv(data_path_adult_test, header=None, names=column_names_adult,\n",
    "                                na_values=' ?', skipinitialspace=True, skiprows=1)\n",
    "except:\n",
    "    pass\n",
    "\n",
    "if not df_adult_train.empty and not df_adult_test.empty:\n",
    "    df_adult = pd.concat([df_adult_train, df_adult_test], ignore_index=True)\n",
    "elif not df_adult_train.empty:\n",
    "    df_adult = df_adult_train\n",
    "else:\n",
    "    df_adult = pd.DataFrame()\n",
    "\n",
    "if not df_adult.empty and 'income_bracket' in df_adult.columns:\n",
    "    df_adult.rename(columns={'income_bracket': 'target'}, inplace=True)\n",
    "    df_adult['target'] = df_adult['target'].str.strip().str.rstrip('.')\n",
    "    df_adult['target'] = df_adult['target'].map({'<=50K': -1, '>50K': 1})\n",
    "\n",
    "    categorical_cols = [\n",
    "        'workclass', 'education', 'marital-status', 'occupation',\n",
    "        'relationship', 'race', 'sex', 'native-country'\n",
    "    ]\n",
    "    numerical_cols = [\n",
    "        'age', 'fnlwgt', 'education-num', 'capital-gain',\n",
    "        'capital-loss', 'hours-per-week'\n",
    "    ]\n",
    "\n",
    "    for col in categorical_cols:\n",
    "        df_adult[col] = df_adult[col].fillna('Unknown')\n",
    "    for col in numerical_cols:\n",
    "        df_adult[col] = df_adult[col].fillna(df_adult[col].mean())\n",
    "\n",
    "    df_adult_processed = pd.get_dummies(df_adult, columns=categorical_cols, drop_first=False).fillna(0.0)\n",
    "\n",
    "    for col in df_adult_processed.columns:\n",
    "        if col != 'target':\n",
    "            df_adult_processed[col] = pd.to_numeric(df_adult_processed[col], errors='coerce').fillna(0.0)\n",
    "\n",
    "    feature_cols = [col for col in df_adult_processed.columns if col != 'target']\n",
    "    scaler = StandardScaler()\n",
    "    df_adult_processed[feature_cols] = scaler.fit_transform(df_adult_processed[feature_cols])\n",
    "\n",
    "    datasets[dataset_name_adult] = df_adult_processed\n",
    "dataset_name_bank = 'bank_marketing'\n",
    "data_path_bank = 'data/artigo2/bank-marketing/bank/bank-full.csv'\n",
    "\n",
    "df_bank = pd.DataFrame()\n",
    "\n",
    "try:\n",
    "    df_bank = pd.read_csv(data_path_bank, sep=';')\n",
    "except FileNotFoundError:\n",
    "    pass\n",
    "except Exception as e:\n",
    "    pass\n",
    "\n",
    "if not df_bank.empty:\n",
    "    if 'y' in df_bank.columns:\n",
    "        df_bank.rename(columns={'y': 'target'}, inplace=True)\n",
    "        df_bank['target'] = df_bank['target'].map({'yes': 1, 'no': -1})\n",
    "    else:\n",
    "        df_bank = pd.DataFrame()\n",
    "\n",
    "if not df_bank.empty and 'target' in df_bank.columns:\n",
    "    categorical_cols = ['job', 'marital', 'education', 'default', 'housing', 'loan', 'contact', 'month', 'poutcome']\n",
    "    df_bank_processed = pd.get_dummies(df_bank, columns=categorical_cols, drop_first=False)\n",
    "    df_bank_processed = df_bank_processed.fillna(0.0)\n",
    "\n",
    "    # Converte tudo (exceto target) para float antes de normalizar\n",
    "    for col in df_bank_processed.columns:\n",
    "        if col != 'target':\n",
    "            df_bank_processed[col] = pd.to_numeric(df_bank_processed[col], errors='coerce').fillna(0.0)\n",
    "\n",
    "    # Aplica o StandardScaler em todas as colunas numéricas (exceto target)\n",
    "    feature_cols = [col for col in df_bank_processed.columns if col != 'target']\n",
    "    scaler_bank = StandardScaler()\n",
    "    df_bank_processed[feature_cols] = scaler_bank.fit_transform(df_bank_processed[feature_cols])\n",
    "\n",
    "    datasets[dataset_name_bank] = df_bank_processed\n",
    "else:\n",
    "    if df_bank.empty:\n",
    "        pass\n",
    "dataset_name_magic = 'magic_gamma_telescope'\n",
    "data_path_magic = 'data/artigo2/magic-gamma-telescope/magic04.data'\n",
    "\n",
    "column_names_magic = [\n",
    "    'fLength', 'fWidth', 'fSize', 'fConc', 'fConc1', 'fAsym',\n",
    "    'fM3Long', 'fM3Trans', 'fAlpha', 'fDist', 'target'\n",
    "]\n",
    "\n",
    "df_magic = pd.read_csv(data_path_magic, header=None, names=column_names_magic)\n",
    "\n",
    "df_magic['target'] = df_magic['target'].map({'g': 1, 'h': -1})\n",
    "\n",
    "X_magic = df_magic.drop('target', axis=1)\n",
    "y_magic = df_magic['target']\n",
    "\n",
    "scaler_magic = StandardScaler()\n",
    "X_magic_scaled_array = scaler_magic.fit_transform(X_magic)\n",
    "X_magic_scaled_df = pd.DataFrame(X_magic_scaled_array, columns=X_magic.columns, index=X_magic.index)\n",
    "\n",
    "df_magic_processed = pd.concat([X_magic_scaled_df, y_magic], axis=1)\n",
    "datasets[dataset_name_magic] = df_magic_processed\n",
    "dataset_name = 'phishing_websites'\n",
    "data_path_phishing = 'data/artigo2/phishing-websites/Training Dataset.arff'\n",
    "\n",
    "data_arff, meta_arff = arff.loadarff(data_path_phishing)\n",
    "df_phishing = pd.DataFrame(data_arff)\n",
    "\n",
    "df_phishing.rename(columns={'Result': 'target'}, inplace=True)\n",
    "\n",
    "for col in df_phishing.columns:\n",
    "    if df_phishing[col].dtype == object:\n",
    "        df_phishing[col] = df_phishing[col].str.decode('utf-8').astype(int)\n",
    "\n",
    "X_phishing = df_phishing.drop('target', axis=1)\n",
    "y_phishing = df_phishing['target']\n",
    "\n",
    "scaler = StandardScaler()\n",
    "X_phishing_scaled_array = scaler.fit_transform(X_phishing)\n",
    "X_phishing_scaled_df = pd.DataFrame(X_phishing_scaled_array, columns=X_phishing.columns, index=X_phishing.index)\n",
    "\n",
    "df_phishing_processed = pd.concat([X_phishing_scaled_df, y_phishing], axis=1)\n",
    "datasets[dataset_name] = df_phishing_processed\n",
    "dataset_name_credit = 'default_of_credit_card_clients'\n",
    "data_path_credit = 'data/artigo2/default-of-credit-card-clients/default of credit card clients.xls'\n",
    "\n",
    "df_credit = pd.DataFrame()\n",
    "\n",
    "try:\n",
    "    df_credit = pd.read_excel(data_path_credit, header=1)\n",
    "except FileNotFoundError:\n",
    "    print(f\"ERRO: Arquivo não encontrado em '{data_path_credit}'. Verifique o caminho e o nome do arquivo.\")\n",
    "except Exception as e:\n",
    "    print(f\"ERRO ao carregar o arquivo Excel '{data_path_credit}': {e}\")\n",
    "\n",
    "if not df_credit.empty:\n",
    "    if 'default payment next month' in df_credit.columns:\n",
    "        df_credit.rename(columns={'default payment next month': 'target'}, inplace=True)\n",
    "    else:\n",
    "        if len(df_credit.columns) > 0:\n",
    "            original_target_col_name = df_credit.columns[-1]\n",
    "            df_credit.rename(columns={original_target_col_name: 'target'}, inplace=True)\n",
    "        else:\n",
    "            print(\"ERRO: DataFrame não tem colunas para definir um target.\")\n",
    "\n",
    "    if 'target' in df_credit.columns:\n",
    "        df_credit['target'] = df_credit['target'].map({0: -1, 1: 1})\n",
    "\n",
    "        if 'ID' in df_credit.columns:\n",
    "            df_credit = df_credit.drop('ID', axis=1)\n",
    "\n",
    "        # UNDERSAMPLING: pega todos da minoria e 20% da maioria\n",
    "        frac_majoritaria = 0.2\n",
    "        min_class = df_credit['target'].value_counts().idxmin()\n",
    "        maj_class = df_credit['target'].value_counts().idxmax()\n",
    "        df_min = df_credit[df_credit['target'] == min_class]\n",
    "        df_maj = df_credit[df_credit['target'] == maj_class].sample(frac=frac_majoritaria, random_state=42)\n",
    "        df_credit_balanced = pd.concat([df_min, df_maj], axis=0).sample(frac=1, random_state=42).reset_index(drop=True)\n",
    "\n",
    "        X_credit = df_credit_balanced.drop('target', axis=1)\n",
    "        y_credit = df_credit_balanced['target']\n",
    "\n",
    "        scaler_credit = StandardScaler()\n",
    "        X_credit_scaled_array = scaler_credit.fit_transform(X_credit)\n",
    "        X_credit_scaled_df = pd.DataFrame(X_credit_scaled_array, columns=X_credit.columns, index=X_credit.index)\n",
    "\n",
    "        df_credit_processed = pd.concat([X_credit_scaled_df, y_credit], axis=1)\n",
    "        datasets[dataset_name_credit] = df_credit_processed\n",
    "    else:\n",
    "        print(f\"ERRO: Coluna 'target' não foi definida corretamente para o dataset '{dataset_name_credit}'. Processamento interrompido para este dataset.\")\n",
    "\n"
   ]
  },
  {
   "cell_type": "code",
   "execution_count": 4,
   "metadata": {},
   "outputs": [
    {
     "data": {
      "text/html": [
       "<div>\n",
       "<style scoped>\n",
       "    .dataframe tbody tr th:only-of-type {\n",
       "        vertical-align: middle;\n",
       "    }\n",
       "\n",
       "    .dataframe tbody tr th {\n",
       "        vertical-align: top;\n",
       "    }\n",
       "\n",
       "    .dataframe thead th {\n",
       "        text-align: right;\n",
       "    }\n",
       "</style>\n",
       "<table border=\"1\" class=\"dataframe\">\n",
       "  <thead>\n",
       "    <tr style=\"text-align: right;\">\n",
       "      <th></th>\n",
       "      <th>Dataset Name</th>\n",
       "      <th>Num Amostras (Linhas)</th>\n",
       "      <th>Num Colunas (Total)</th>\n",
       "      <th>Contagem Target -1</th>\n",
       "      <th>Contagem Target 1</th>\n",
       "      <th>Balanceamento (% Minoritária)</th>\n",
       "    </tr>\n",
       "  </thead>\n",
       "  <tbody>\n",
       "    <tr>\n",
       "      <th>0</th>\n",
       "      <td>adult_income</td>\n",
       "      <td>48842</td>\n",
       "      <td>109</td>\n",
       "      <td>37155</td>\n",
       "      <td>11687</td>\n",
       "      <td>23.93%</td>\n",
       "    </tr>\n",
       "    <tr>\n",
       "      <th>1</th>\n",
       "      <td>bank_marketing</td>\n",
       "      <td>45211</td>\n",
       "      <td>52</td>\n",
       "      <td>39922</td>\n",
       "      <td>5289</td>\n",
       "      <td>11.70%</td>\n",
       "    </tr>\n",
       "    <tr>\n",
       "      <th>2</th>\n",
       "      <td>magic_gamma_telescope</td>\n",
       "      <td>19020</td>\n",
       "      <td>11</td>\n",
       "      <td>6688</td>\n",
       "      <td>12332</td>\n",
       "      <td>35.16%</td>\n",
       "    </tr>\n",
       "    <tr>\n",
       "      <th>3</th>\n",
       "      <td>phishing_websites</td>\n",
       "      <td>11055</td>\n",
       "      <td>31</td>\n",
       "      <td>4898</td>\n",
       "      <td>6157</td>\n",
       "      <td>44.31%</td>\n",
       "    </tr>\n",
       "    <tr>\n",
       "      <th>4</th>\n",
       "      <td>default_of_credit_card_clients</td>\n",
       "      <td>11309</td>\n",
       "      <td>24</td>\n",
       "      <td>4673</td>\n",
       "      <td>6636</td>\n",
       "      <td>41.32%</td>\n",
       "    </tr>\n",
       "  </tbody>\n",
       "</table>\n",
       "</div>"
      ],
      "text/plain": [
       "                     Dataset Name  Num Amostras (Linhas)  Num Colunas (Total)  \\\n",
       "0                    adult_income                  48842                  109   \n",
       "1                  bank_marketing                  45211                   52   \n",
       "2           magic_gamma_telescope                  19020                   11   \n",
       "3               phishing_websites                  11055                   31   \n",
       "4  default_of_credit_card_clients                  11309                   24   \n",
       "\n",
       "   Contagem Target -1  Contagem Target 1 Balanceamento (% Minoritária)  \n",
       "0               37155              11687                        23.93%  \n",
       "1               39922               5289                        11.70%  \n",
       "2                6688              12332                        35.16%  \n",
       "3                4898               6157                        44.31%  \n",
       "4                4673               6636                        41.32%  "
      ]
     },
     "execution_count": 4,
     "metadata": {},
     "output_type": "execute_result"
    }
   ],
   "source": [
    "summary_data = []\n",
    "\n",
    "if not datasets:\n",
    "    print(\"Nenhum dataset carregado no dicionário 'datasets'.\")\n",
    "    df_summary = pd.DataFrame() # Cria um DataFrame vazio\n",
    "else:\n",
    "    for name, df in datasets.items():\n",
    "        n_rows, n_cols = df.shape\n",
    "        \n",
    "        minority_percentage = 0.0 # Default\n",
    "        class_neg_1_count = 0\n",
    "        class_pos_1_count = 0\n",
    "\n",
    "        if 'target' in df.columns and n_rows > 0:\n",
    "            target_counts = df['target'].value_counts(normalize=False)\n",
    "            class_neg_1_count = target_counts.get(-1, 0)\n",
    "            class_pos_1_count = target_counts.get(1, 0)\n",
    "            \n",
    "            if class_neg_1_count > 0 or class_pos_1_count > 0: # Evitar divisão por zero se não houver target\n",
    "                minority_count = min(class_neg_1_count, class_pos_1_count)\n",
    "                # Se uma classe não existir (contagem 0), ela é a minoritária com 0%\n",
    "                if class_neg_1_count == 0 or class_pos_1_count == 0:\n",
    "                    minority_percentage = 0.0\n",
    "                else:\n",
    "                    minority_percentage = (minority_count / n_rows) * 100\n",
    "            else: # Caso a coluna target exista mas não tenha valores -1 ou 1 (improvável com seu pré-processamento)\n",
    "                minority_percentage = 0.0\n",
    "        \n",
    "        summary_data.append({\n",
    "            'Dataset Name': name,\n",
    "            'Num Amostras (Linhas)': n_rows,\n",
    "            'Num Colunas (Total)': n_cols,\n",
    "            'Contagem Target -1': class_neg_1_count,\n",
    "            'Contagem Target 1': class_pos_1_count,\n",
    "            'Balanceamento (% Minoritária)': minority_percentage\n",
    "        })\n",
    "\n",
    "    df_summary = pd.DataFrame(summary_data)\n",
    "\n",
    "    # Formatar a coluna de porcentagem para melhor visualização\n",
    "    if 'Balanceamento (% Minoritária)' in df_summary.columns:\n",
    "        df_summary['Balanceamento (% Minoritária)'] = df_summary['Balanceamento (% Minoritária)'].map('{:.2f}%'.format)\n",
    "\n",
    "# Exibir o DataFrame de resumo\n",
    "df_summary"
   ]
  },
  {
   "cell_type": "markdown",
   "metadata": {},
   "source": [
    "---"
   ]
  },
  {
   "cell_type": "markdown",
   "metadata": {},
   "source": [
    "## Funções de avaliação"
   ]
  },
  {
   "cell_type": "code",
   "execution_count": 3,
   "metadata": {},
   "outputs": [],
   "source": [
    "from sklearn.model_selection import StratifiedKFold\n",
    "import numpy as np\n",
    "from sklearn.metrics import accuracy_score, f1_score, roc_auc_score, matthews_corrcoef\n",
    "from sklearn.ensemble import RandomForestClassifier\n",
    "from sklearn.svm import SVC\n",
    "from sklearn.linear_model import LogisticRegression\n",
    "import time\n",
    "from xgboost import XGBClassifier\n",
    "import warnings\n",
    "warnings.filterwarnings(\"ignore\", category=UserWarning, module=\"xgboost\")\n",
    "\n",
    "\n",
    "def evaluate_knn_centroid_distance_gridsearch(dataset_df, n_cv_splits=5, frac=1, n_k=20, n_h=20):\n",
    "    # Embaralha o dataset antes de tudo\n",
    "    df = dataset_df.sample(frac=frac, random_state=42).reset_index(drop=True)\n",
    "    X = df.drop('target', axis=1).values\n",
    "    y = df['target'].values\n",
    "\n",
    "    skf = StratifiedKFold(n_splits=n_cv_splits, shuffle=False)\n",
    "    accs, f1s, aucs, mccs = [], [], [], []\n",
    "    train_times = []\n",
    "\n",
    "    k_values = np.unique(np.round(np.linspace(1, 201, n_k)).astype(int))\n",
    "    h_values = np.logspace(-5, 2, n_h)\n",
    "\n",
    "    for train_index, test_index in skf.split(X, y):\n",
    "        X_train, X_test = X[train_index], X[test_index]\n",
    "        y_train, y_test = y[train_index], y[test_index]\n",
    "        start_time = time.time()\n",
    "        # Grid search para melhor k e h no fold\n",
    "        best_score = -np.inf\n",
    "        best_k = None\n",
    "        best_h = None\n",
    "        for k in k_values:\n",
    "            for h in h_values:\n",
    "                proj = project_data(X_test, X_train, y_train, k, h)\n",
    "                y_pred = np.where(proj[:, 0] > proj[:, 1], 1, -1)\n",
    "                score = np.mean(y_test == y_pred)\n",
    "                if score > best_score:\n",
    "                    best_score = score\n",
    "                    best_k = k\n",
    "                    best_h = h\n",
    "        train_time = time.time() - start_time\n",
    "        train_times.append(train_time)\n",
    "        # Usa o melhor k e h encontrados para o fold\n",
    "        proj = project_data(X_test, X_train, y_train, best_k, best_h)\n",
    "        y_pred = np.where(proj[:, 0] > proj[:, 1], 1, -1)\n",
    "        accs.append(accuracy_score(y_test, y_pred))\n",
    "        f1s.append(f1_score(y_test, y_pred))\n",
    "        if len(np.unique(y_test)) == 2:\n",
    "            aucs.append(roc_auc_score(y_test, proj[:, 0] - proj[:, 1]))\n",
    "        else:\n",
    "            aucs.append(np.nan)\n",
    "        mccs.append(matthews_corrcoef(y_test, y_pred))\n",
    "\n",
    "    results = {\n",
    "        \"accuracy\": accs,\n",
    "        \"f1\": f1s,\n",
    "        \"roc_auc\": aucs,\n",
    "        \"mcc\": mccs,\n",
    "        \"train_time\": train_times,\n",
    "    }\n",
    "    return results\n",
    "\n",
    "\n",
    "def evaluate_knn_centroid_distance(dataset_df, n_cv_splits=5, frac=1):\n",
    "    # Embaralha o dataset antes de tudo\n",
    "    df = dataset_df.sample(frac=frac, random_state=42).reset_index(drop=True)\n",
    "    X = df.drop('target', axis=1).values\n",
    "    y = df['target'].values\n",
    "\n",
    "    skf = StratifiedKFold(n_splits=n_cv_splits, shuffle=False)\n",
    "    accs, f1s, aucs, mccs = [], [], [], []\n",
    "    train_times = []\n",
    "\n",
    "    for train_index, test_index in skf.split(X, y):\n",
    "        X_train, X_test = X[train_index], X[test_index]\n",
    "        y_train, y_test = y[train_index], y[test_index]\n",
    "        start_time = time.time()\n",
    "        best_k, best_h = optimize_centroid_distance(X_train, y_train)\n",
    "        train_time = time.time() - start_time\n",
    "        train_times.append(train_time)\n",
    "        proj = project_data(X_test, X_train, y_train, best_k, best_h)\n",
    "        y_pred = np.where(proj[:, 0] > proj[:, 1], 1, -1)\n",
    "        accs.append(accuracy_score(y_test, y_pred))\n",
    "        f1s.append(f1_score(y_test, y_pred))\n",
    "        if len(np.unique(y_test)) == 2:\n",
    "            aucs.append(roc_auc_score(y_test, proj[:, 0] - proj[:, 1]))\n",
    "        else:\n",
    "            aucs.append(np.nan)\n",
    "        mccs.append(matthews_corrcoef(y_test, y_pred))\n",
    "\n",
    "    results = {\n",
    "        \"accuracy\": accs,\n",
    "        \"f1\": f1s,\n",
    "        \"roc_auc\": aucs,\n",
    "        \"mcc\": mccs,\n",
    "        \"train_time\": train_times,\n",
    "    }\n",
    "    return results\n",
    "\n",
    "def evaluate_random_forest(dataset_df, n_cv_splits=5, rf_kwargs=None, frac=1):\n",
    "    # Embaralha o dataset antes de tudo\n",
    "    df = dataset_df.sample(frac=frac, random_state=42).reset_index(drop=True)\n",
    "    X = df.drop('target', axis=1).values\n",
    "    y = df['target'].values\n",
    "\n",
    "    if rf_kwargs is None:\n",
    "        rf_kwargs = {}\n",
    "\n",
    "    skf = StratifiedKFold(n_splits=n_cv_splits, shuffle=False)\n",
    "    accs, f1s, aucs, mccs = [], [], [], []\n",
    "    train_times = []\n",
    "\n",
    "    for train_index, test_index in skf.split(X, y):\n",
    "        X_train, X_test = X[train_index], X[test_index]\n",
    "        y_train, y_test = y[train_index], y[test_index]\n",
    "        clf = RandomForestClassifier(random_state=42, **rf_kwargs)\n",
    "        start_time = time.time()\n",
    "        clf.fit(X_train, y_train)\n",
    "        train_time = time.time() - start_time\n",
    "        train_times.append(train_time)\n",
    "        y_pred = clf.predict(X_test)\n",
    "        accs.append(accuracy_score(y_test, y_pred))\n",
    "        f1s.append(f1_score(y_test, y_pred))\n",
    "        # Para ROC AUC, precisa de ambas as classes no y_test\n",
    "        if len(np.unique(y_test)) == 2:\n",
    "            # Usa a probabilidade da classe positiva como score contínuo\n",
    "            y_score = clf.predict_proba(X_test)[:, 1]\n",
    "            aucs.append(roc_auc_score(y_test, y_score))\n",
    "        else:\n",
    "            aucs.append(np.nan)\n",
    "        mccs.append(matthews_corrcoef(y_test, y_pred))\n",
    "\n",
    "    results = {\n",
    "        \"accuracy\": accs,\n",
    "        \"f1\": f1s,\n",
    "        \"roc_auc\": aucs,\n",
    "        \"mcc\": mccs,\n",
    "        \"train_time\": train_times,\n",
    "    }\n",
    "    return results\n",
    "\n",
    "def evaluate_svm(dataset_df, n_cv_splits=5, svm_kwargs=None, frac=1):\n",
    "    # Embaralha o dataset antes de tudo\n",
    "    df = dataset_df.sample(frac=frac, random_state=42).reset_index(drop=True)\n",
    "    X = df.drop('target', axis=1).values\n",
    "    y = df['target'].values\n",
    "\n",
    "    if svm_kwargs is None:\n",
    "        svm_kwargs = {}\n",
    "\n",
    "    skf = StratifiedKFold(n_splits=n_cv_splits, shuffle=False)\n",
    "    accs, f1s, aucs, mccs = [], [], [], []\n",
    "    train_times = []\n",
    "\n",
    "    for train_index, test_index in skf.split(X, y):\n",
    "        X_train, X_test = X[train_index], X[test_index]\n",
    "        y_train, y_test = y[train_index], y[test_index]\n",
    "        # probability=True é necessário para predict_proba (ROC AUC)\n",
    "        clf = SVC(probability=True, random_state=42, **svm_kwargs)\n",
    "        start_time = time.time()\n",
    "        clf.fit(X_train, y_train)\n",
    "        train_time = time.time() - start_time\n",
    "        train_times.append(train_time)\n",
    "        y_pred = clf.predict(X_test)\n",
    "        accs.append(accuracy_score(y_test, y_pred))\n",
    "        f1s.append(f1_score(y_test, y_pred))\n",
    "        # Para ROC AUC, precisa de ambas as classes no y_test\n",
    "        if len(np.unique(y_test)) == 2:\n",
    "            y_score = clf.predict_proba(X_test)[:, 1]\n",
    "            aucs.append(roc_auc_score(y_test, y_score))\n",
    "        else:\n",
    "            aucs.append(np.nan)\n",
    "        mccs.append(matthews_corrcoef(y_test, y_pred))\n",
    "\n",
    "    results = {\n",
    "        \"accuracy\": accs,\n",
    "        \"f1\": f1s,\n",
    "        \"roc_auc\": aucs,\n",
    "        \"mcc\": mccs,\n",
    "        \"train_time\": train_times,\n",
    "    }\n",
    "    return results\n",
    "\n",
    "def evaluate_logistic_regression(dataset_df, n_cv_splits=5, lr_kwargs=None, frac=1):\n",
    "    # Embaralha o dataset antes de tudo\n",
    "    df = dataset_df.sample(frac=frac, random_state=42).reset_index(drop=True)\n",
    "    X = df.drop('target', axis=1).values\n",
    "    y = df['target'].values\n",
    "\n",
    "    if lr_kwargs is None:\n",
    "        lr_kwargs = {}\n",
    "\n",
    "    skf = StratifiedKFold(n_splits=n_cv_splits, shuffle=False)\n",
    "    accs, f1s, aucs, mccs = [], [], [], []\n",
    "    train_times = []\n",
    "\n",
    "    for train_index, test_index in skf.split(X, y):\n",
    "        X_train, X_test = X[train_index], X[test_index]\n",
    "        y_train, y_test = y[train_index], y[test_index]\n",
    "        clf = LogisticRegression(random_state=42, max_iter=1000, **lr_kwargs)\n",
    "        start_time = time.time()\n",
    "        clf.fit(X_train, y_train)\n",
    "        train_time = time.time() - start_time\n",
    "        train_times.append(train_time)\n",
    "        y_pred = clf.predict(X_test)\n",
    "        accs.append(accuracy_score(y_test, y_pred))\n",
    "        f1s.append(f1_score(y_test, y_pred))\n",
    "        # Para ROC AUC, precisa de ambas as classes no y_test\n",
    "        if len(np.unique(y_test)) == 2:\n",
    "            y_score = clf.predict_proba(X_test)[:, 1]\n",
    "            aucs.append(roc_auc_score(y_test, y_score))\n",
    "        else:\n",
    "            aucs.append(np.nan)\n",
    "        mccs.append(matthews_corrcoef(y_test, y_pred))\n",
    "\n",
    "    results = {\n",
    "        \"accuracy\": accs,\n",
    "        \"f1\": f1s,\n",
    "        \"roc_auc\": aucs,\n",
    "        \"mcc\": mccs,\n",
    "        \"train_time\": train_times,\n",
    "    }\n",
    "    return results\n",
    "\n",
    "def evaluate_xgboost(dataset_df, n_cv_splits=5, xgb_kwargs=None, frac=1):\n",
    "    # Embaralha o dataset antes de tudo\n",
    "    df = dataset_df.sample(frac=frac, random_state=42).reset_index(drop=True)\n",
    "    X = df.drop('target', axis=1).values\n",
    "    y = df['target'].values\n",
    "\n",
    "    # Converte -1/1 para 0/1 para o XGBoost\n",
    "    y_xgb = np.where(y == -1, 0, 1)\n",
    "\n",
    "    if xgb_kwargs is None:\n",
    "        xgb_kwargs = {}\n",
    "\n",
    "    skf = StratifiedKFold(n_splits=n_cv_splits, shuffle=False)\n",
    "    accs, f1s, aucs, mccs = [], [], [], []\n",
    "    train_times = []\n",
    "\n",
    "    for train_index, test_index in skf.split(X, y_xgb):\n",
    "        X_train, X_test = X[train_index], X[test_index]\n",
    "        y_train, y_test = y_xgb[train_index], y_xgb[test_index]\n",
    "        clf = XGBClassifier(random_state=42, use_label_encoder=False, eval_metric='logloss', **xgb_kwargs)\n",
    "        start_time = time.time()\n",
    "        clf.fit(X_train, y_train)\n",
    "        train_time = time.time() - start_time\n",
    "        train_times.append(train_time)\n",
    "        y_pred = clf.predict(X_test)\n",
    "        accs.append(accuracy_score(y_test, y_pred))\n",
    "        f1s.append(f1_score(y_test, y_pred))\n",
    "        # Para ROC AUC, precisa de ambas as classes no y_test\n",
    "        if len(np.unique(y_test)) == 2:\n",
    "            y_score = clf.predict_proba(X_test)[:, 1]\n",
    "            aucs.append(roc_auc_score(y_test, y_score))\n",
    "        else:\n",
    "            aucs.append(np.nan)\n",
    "        mccs.append(matthews_corrcoef(y_test, y_pred))\n",
    "\n",
    "    results = {\n",
    "        \"accuracy\": accs,\n",
    "        \"f1\": f1s,\n",
    "        \"roc_auc\": aucs,\n",
    "        \"mcc\": mccs,\n",
    "        \"train_time\": train_times,\n",
    "    }\n",
    "    return results\n"
   ]
  },
  {
   "cell_type": "markdown",
   "metadata": {},
   "source": [
    "## Teste bases grandes"
   ]
  },
  {
   "cell_type": "code",
   "execution_count": 6,
   "metadata": {},
   "outputs": [
    {
     "name": "stderr",
     "output_type": "stream",
     "text": [
      "Datasets:   0%|          | 0/5 [00:00<?, ?it/s]"
     ]
    },
    {
     "name": "stdout",
     "output_type": "stream",
     "text": [
      "\n",
      "=== Rodando para dataset: adult_income ===\n"
     ]
    },
    {
     "name": "stderr",
     "output_type": "stream",
     "text": []
    },
    {
     "name": "stdout",
     "output_type": "stream",
     "text": [
      "  -> Rodando modelo: KNN_Centroid\n",
      "Tentando com margem 20GB (frac=0.151)...\n"
     ]
    },
    {
     "name": "stderr",
     "output_type": "stream",
     "text": []
    },
    {
     "name": "stdout",
     "output_type": "stream",
     "text": [
      "  -> Rodando modelo: RandomForest\n",
      "Tentando com margem 20GB (frac=0.152)...\n"
     ]
    },
    {
     "name": "stderr",
     "output_type": "stream",
     "text": []
    },
    {
     "name": "stdout",
     "output_type": "stream",
     "text": [
      "  -> Rodando modelo: SVM\n",
      "Tentando com margem 20GB (frac=0.152)...\n"
     ]
    },
    {
     "name": "stderr",
     "output_type": "stream",
     "text": []
    },
    {
     "name": "stdout",
     "output_type": "stream",
     "text": [
      "  -> Rodando modelo: LogisticRegression\n",
      "Tentando com margem 20GB (frac=0.153)...\n"
     ]
    },
    {
     "name": "stderr",
     "output_type": "stream",
     "text": []
    },
    {
     "name": "stdout",
     "output_type": "stream",
     "text": [
      "  -> Rodando modelo: XGBoost\n",
      "Tentando com margem 20GB (frac=0.153)...\n"
     ]
    },
    {
     "name": "stderr",
     "output_type": "stream",
     "text": [
      "Datasets:  20%|██        | 1/5 [10:14<40:58, 614.50s/it]"
     ]
    },
    {
     "name": "stdout",
     "output_type": "stream",
     "text": [
      "\n",
      "=== Rodando para dataset: bank_marketing ===\n"
     ]
    },
    {
     "name": "stderr",
     "output_type": "stream",
     "text": []
    },
    {
     "name": "stdout",
     "output_type": "stream",
     "text": [
      "  -> Rodando modelo: KNN_Centroid\n",
      "Tentando com margem 20GB (frac=0.241)...\n"
     ]
    },
    {
     "name": "stderr",
     "output_type": "stream",
     "text": []
    },
    {
     "name": "stdout",
     "output_type": "stream",
     "text": [
      "  -> Rodando modelo: RandomForest\n",
      "Tentando com margem 20GB (frac=0.244)...\n"
     ]
    },
    {
     "name": "stderr",
     "output_type": "stream",
     "text": []
    },
    {
     "name": "stdout",
     "output_type": "stream",
     "text": [
      "  -> Rodando modelo: SVM\n",
      "Tentando com margem 20GB (frac=0.244)...\n"
     ]
    },
    {
     "name": "stderr",
     "output_type": "stream",
     "text": []
    },
    {
     "name": "stdout",
     "output_type": "stream",
     "text": [
      "  -> Rodando modelo: LogisticRegression\n",
      "Tentando com margem 20GB (frac=0.243)...\n",
      "  -> Rodando modelo: XGBoost\n",
      "Tentando com margem 20GB (frac=0.243)...\n"
     ]
    },
    {
     "name": "stderr",
     "output_type": "stream",
     "text": [
      "Datasets:  40%|████      | 2/5 [19:09<28:23, 567.88s/it]"
     ]
    },
    {
     "name": "stdout",
     "output_type": "stream",
     "text": [
      "\n",
      "=== Rodando para dataset: magic_gamma_telescope ===\n"
     ]
    },
    {
     "name": "stderr",
     "output_type": "stream",
     "text": []
    },
    {
     "name": "stdout",
     "output_type": "stream",
     "text": [
      "  -> Rodando modelo: KNN_Centroid\n",
      "Tentando com margem 20GB (frac=1.0)...\n"
     ]
    },
    {
     "name": "stderr",
     "output_type": "stream",
     "text": []
    },
    {
     "name": "stdout",
     "output_type": "stream",
     "text": [
      "  -> Rodando modelo: RandomForest\n",
      "Tentando com margem 20GB (frac=1.0)...\n"
     ]
    },
    {
     "name": "stderr",
     "output_type": "stream",
     "text": []
    },
    {
     "name": "stdout",
     "output_type": "stream",
     "text": [
      "  -> Rodando modelo: SVM\n",
      "Tentando com margem 20GB (frac=1.0)...\n"
     ]
    },
    {
     "name": "stderr",
     "output_type": "stream",
     "text": []
    },
    {
     "name": "stdout",
     "output_type": "stream",
     "text": [
      "  -> Rodando modelo: LogisticRegression\n",
      "Tentando com margem 20GB (frac=1.0)...\n",
      "  -> Rodando modelo: XGBoost\n",
      "Tentando com margem 20GB (frac=1.0)...\n"
     ]
    },
    {
     "name": "stderr",
     "output_type": "stream",
     "text": [
      "Datasets:  60%|██████    | 3/5 [29:37<19:50, 595.22s/it]"
     ]
    },
    {
     "name": "stdout",
     "output_type": "stream",
     "text": [
      "\n",
      "=== Rodando para dataset: phishing_websites ===\n"
     ]
    },
    {
     "name": "stderr",
     "output_type": "stream",
     "text": []
    },
    {
     "name": "stdout",
     "output_type": "stream",
     "text": [
      "  -> Rodando modelo: KNN_Centroid\n",
      "Tentando com margem 20GB (frac=1.0)...\n"
     ]
    },
    {
     "name": "stderr",
     "output_type": "stream",
     "text": []
    },
    {
     "name": "stdout",
     "output_type": "stream",
     "text": [
      "  -> Rodando modelo: RandomForest\n",
      "Tentando com margem 20GB (frac=1.0)...\n"
     ]
    },
    {
     "name": "stderr",
     "output_type": "stream",
     "text": []
    },
    {
     "name": "stdout",
     "output_type": "stream",
     "text": [
      "  -> Rodando modelo: SVM\n",
      "Tentando com margem 20GB (frac=1.0)...\n"
     ]
    },
    {
     "name": "stderr",
     "output_type": "stream",
     "text": []
    },
    {
     "name": "stdout",
     "output_type": "stream",
     "text": [
      "  -> Rodando modelo: LogisticRegression\n",
      "Tentando com margem 20GB (frac=1.0)...\n",
      "  -> Rodando modelo: XGBoost\n",
      "Tentando com margem 20GB (frac=1.0)...\n"
     ]
    },
    {
     "name": "stderr",
     "output_type": "stream",
     "text": [
      "Datasets:  80%|████████  | 4/5 [35:43<08:24, 504.65s/it]"
     ]
    },
    {
     "name": "stdout",
     "output_type": "stream",
     "text": [
      "\n",
      "=== Rodando para dataset: default_of_credit_card_clients ===\n"
     ]
    },
    {
     "name": "stderr",
     "output_type": "stream",
     "text": []
    },
    {
     "name": "stdout",
     "output_type": "stream",
     "text": [
      "  -> Rodando modelo: KNN_Centroid\n",
      "Tentando com margem 20GB (frac=1.0)...\n"
     ]
    },
    {
     "name": "stderr",
     "output_type": "stream",
     "text": []
    },
    {
     "name": "stdout",
     "output_type": "stream",
     "text": [
      "  -> Rodando modelo: RandomForest\n",
      "Tentando com margem 20GB (frac=1.0)...\n"
     ]
    },
    {
     "name": "stderr",
     "output_type": "stream",
     "text": []
    },
    {
     "name": "stdout",
     "output_type": "stream",
     "text": [
      "  -> Rodando modelo: SVM\n",
      "Tentando com margem 20GB (frac=1.0)...\n"
     ]
    },
    {
     "name": "stderr",
     "output_type": "stream",
     "text": []
    },
    {
     "name": "stdout",
     "output_type": "stream",
     "text": [
      "  -> Rodando modelo: LogisticRegression\n",
      "Tentando com margem 20GB (frac=1.0)...\n",
      "  -> Rodando modelo: XGBoost\n",
      "Tentando com margem 20GB (frac=1.0)...\n"
     ]
    },
    {
     "name": "stderr",
     "output_type": "stream",
     "text": [
      "Datasets: 100%|██████████| 5/5 [41:54<00:00, 502.95s/it]"
     ]
    },
    {
     "name": "stdout",
     "output_type": "stream",
     "text": [
      "Resultados salvos em data/resultados_modelos_cv.csv\n"
     ]
    },
    {
     "name": "stderr",
     "output_type": "stream",
     "text": [
      "\n"
     ]
    }
   ],
   "source": [
    "import pandas as pd\n",
    "from tqdm import tqdm\n",
    "import psutil\n",
    "\n",
    "def estimar_frac_max_dinamico(df, n_folds=5, margem_gb=4):\n",
    "    n = len(df)\n",
    "    n_features = df.shape[1] - 1  # exclui target\n",
    "    n_train = int(n * (n_folds - 1) / n_folds)\n",
    "    n_test = n - n_train\n",
    "\n",
    "    mem = psutil.virtual_memory()\n",
    "    mem_disponivel_gb = mem.available / (1024**3)\n",
    "    mem_uso_max = max(mem_disponivel_gb - margem_gb, 1)  # nunca usar menos que 1GB\n",
    "\n",
    "    def mem_usage(frac):\n",
    "        n_tr = int(n_train * frac)\n",
    "        n_te = int(n_test * frac)\n",
    "        return n_tr * n_te * n_features * 8 / (1024**3)  # em GB\n",
    "\n",
    "    left, right = 0.01, 1.0\n",
    "    best_frac = left\n",
    "    for _ in range(15):\n",
    "        mid = (left + right) / 2\n",
    "        if mem_usage(mid) < mem_uso_max:\n",
    "            best_frac = mid\n",
    "            left = mid\n",
    "        else:\n",
    "            right = mid\n",
    "    return round(best_frac, 3)\n",
    "\n",
    "model_funcs = {\n",
    "    \"KNN_Centroid\": evaluate_knn_centroid_distance,\n",
    "    \"RandomForest\": evaluate_random_forest,\n",
    "    \"SVM\": evaluate_svm,\n",
    "    \"LogisticRegression\": evaluate_logistic_regression,\n",
    "    \"XGBoost\": evaluate_xgboost,\n",
    "}\n",
    "\n",
    "all_results = []\n",
    "\n",
    "for dataset_name, dataset_df in tqdm(datasets.items(), desc=\"Datasets\"):\n",
    "    print(f\"\\n=== Rodando para dataset: {dataset_name} ===\")\n",
    "    for model_name, model_func in tqdm(model_funcs.items(), desc=f\"Modelos ({dataset_name})\", leave=False, position=1):\n",
    "        print(f\"  -> Rodando modelo: {model_name}\")\n",
    "        margem_gb = 20\n",
    "        margem_gb_max = 28\n",
    "        while margem_gb <= margem_gb_max:\n",
    "            frac = estimar_frac_max_dinamico(dataset_df, n_folds=5, margem_gb=margem_gb)\n",
    "            print(f\"Tentando com margem {margem_gb}GB (frac={frac})...\")\n",
    "            try:\n",
    "                results = model_func(dataset_df, frac=frac)\n",
    "                n_folds = len(results['accuracy'])\n",
    "                for i in range(n_folds):\n",
    "                    all_results.append({\n",
    "                        \"dataset\": dataset_name,\n",
    "                        \"model\": model_name,\n",
    "                        \"run\": i+1,\n",
    "                        \"accuracy\": results['accuracy'][i],\n",
    "                        \"f1\": results['f1'][i],\n",
    "                        \"roc_auc\": results['roc_auc'][i],\n",
    "                        \"mcc\": results['mcc'][i],\n",
    "                        \"train_time\": results['train_time'][i],\n",
    "                        \"frac\": frac,\n",
    "                        \"margem_gb\": margem_gb,\n",
    "                    })\n",
    "                break  # Sai do while se rodou sem erro\n",
    "            except MemoryError:\n",
    "                print(f\"MemoryError com margem={margem_gb}GB (frac={frac}) para {model_name} em {dataset_name}. Aumentando margem...\")\n",
    "                margem_gb += 2\n",
    "            except Exception as e:\n",
    "                print(f\"Erro inesperado para {model_name} em {dataset_name}: {e}\")\n",
    "                break  # Para outros erros, não tenta de novo\n",
    "\n",
    "df_results = pd.DataFrame(all_results)\n",
    "df_results.to_csv(\"data/resultados_modelos_cv.csv\", index=False)\n",
    "print(\"Resultados salvos em data/resultados_modelos_cv.csv\")"
   ]
  },
  {
   "cell_type": "markdown",
   "metadata": {},
   "source": [
    "## Análises bases grandes"
   ]
  },
  {
   "cell_type": "code",
   "execution_count": 15,
   "metadata": {},
   "outputs": [],
   "source": [
    "df_results = pd.read_csv(\"data/resultados_modelos_cv.csv\")"
   ]
  },
  {
   "cell_type": "code",
   "execution_count": 17,
   "metadata": {},
   "outputs": [],
   "source": [
    "df_results.drop(columns=[\"mcc\"], inplace=True)"
   ]
  },
  {
   "cell_type": "code",
   "execution_count": 48,
   "metadata": {},
   "outputs": [
    {
     "data": {
      "text/html": [
       "<div>\n",
       "<style scoped>\n",
       "    .dataframe tbody tr th:only-of-type {\n",
       "        vertical-align: middle;\n",
       "    }\n",
       "\n",
       "    .dataframe tbody tr th {\n",
       "        vertical-align: top;\n",
       "    }\n",
       "\n",
       "    .dataframe thead tr th {\n",
       "        text-align: left;\n",
       "    }\n",
       "\n",
       "    .dataframe thead tr:last-of-type th {\n",
       "        text-align: right;\n",
       "    }\n",
       "</style>\n",
       "<table border=\"1\" class=\"dataframe\">\n",
       "  <thead>\n",
       "    <tr>\n",
       "      <th></th>\n",
       "      <th></th>\n",
       "      <th colspan=\"2\" halign=\"left\">accuracy</th>\n",
       "      <th colspan=\"2\" halign=\"left\">f1</th>\n",
       "      <th colspan=\"2\" halign=\"left\">roc_auc</th>\n",
       "    </tr>\n",
       "    <tr>\n",
       "      <th></th>\n",
       "      <th></th>\n",
       "      <th>mean</th>\n",
       "      <th>std</th>\n",
       "      <th>mean</th>\n",
       "      <th>std</th>\n",
       "      <th>mean</th>\n",
       "      <th>std</th>\n",
       "    </tr>\n",
       "    <tr>\n",
       "      <th>dataset</th>\n",
       "      <th>model</th>\n",
       "      <th></th>\n",
       "      <th></th>\n",
       "      <th></th>\n",
       "      <th></th>\n",
       "      <th></th>\n",
       "      <th></th>\n",
       "    </tr>\n",
       "  </thead>\n",
       "  <tbody>\n",
       "    <tr>\n",
       "      <th rowspan=\"5\" valign=\"top\">exportBase_ILPD</th>\n",
       "      <th>KNN_Centroid</th>\n",
       "      <td>0.6509</td>\n",
       "      <td>0.1409</td>\n",
       "      <td>0.7447</td>\n",
       "      <td>0.1372</td>\n",
       "      <td>0.6429</td>\n",
       "      <td>0.1597</td>\n",
       "    </tr>\n",
       "    <tr>\n",
       "      <th>KNN_Gridsearch</th>\n",
       "      <td>0.7109</td>\n",
       "      <td>0.0149</td>\n",
       "      <td>0.8047</td>\n",
       "      <td>0.0105</td>\n",
       "      <td>0.5571</td>\n",
       "      <td>0.1032</td>\n",
       "    </tr>\n",
       "    <tr>\n",
       "      <th>LogisticRegression</th>\n",
       "      <td>0.6145</td>\n",
       "      <td>0.0735</td>\n",
       "      <td>0.7188</td>\n",
       "      <td>0.0676</td>\n",
       "      <td>0.6452</td>\n",
       "      <td>0.1348</td>\n",
       "    </tr>\n",
       "    <tr>\n",
       "      <th>RandomForest</th>\n",
       "      <td>0.5764</td>\n",
       "      <td>0.0536</td>\n",
       "      <td>0.6679</td>\n",
       "      <td>0.0848</td>\n",
       "      <td>0.6881</td>\n",
       "      <td>0.0598</td>\n",
       "    </tr>\n",
       "    <tr>\n",
       "      <th>SVM</th>\n",
       "      <td>0.6927</td>\n",
       "      <td>0.0336</td>\n",
       "      <td>0.8050</td>\n",
       "      <td>0.0192</td>\n",
       "      <td>0.4786</td>\n",
       "      <td>0.1244</td>\n",
       "    </tr>\n",
       "    <tr>\n",
       "      <th>...</th>\n",
       "      <th>...</th>\n",
       "      <td>...</td>\n",
       "      <td>...</td>\n",
       "      <td>...</td>\n",
       "      <td>...</td>\n",
       "      <td>...</td>\n",
       "      <td>...</td>\n",
       "    </tr>\n",
       "    <tr>\n",
       "      <th rowspan=\"5\" valign=\"top\">exportBase_sonar</th>\n",
       "      <th>KNN_Gridsearch</th>\n",
       "      <td>0.9000</td>\n",
       "      <td>0.1369</td>\n",
       "      <td>0.8667</td>\n",
       "      <td>0.1826</td>\n",
       "      <td>0.9500</td>\n",
       "      <td>0.1118</td>\n",
       "    </tr>\n",
       "    <tr>\n",
       "      <th>LogisticRegression</th>\n",
       "      <td>0.8333</td>\n",
       "      <td>0.1559</td>\n",
       "      <td>0.6667</td>\n",
       "      <td>0.4082</td>\n",
       "      <td>1.0000</td>\n",
       "      <td>0.0000</td>\n",
       "    </tr>\n",
       "    <tr>\n",
       "      <th>RandomForest</th>\n",
       "      <td>0.7000</td>\n",
       "      <td>0.3260</td>\n",
       "      <td>0.5333</td>\n",
       "      <td>0.5055</td>\n",
       "      <td>0.8500</td>\n",
       "      <td>0.3354</td>\n",
       "    </tr>\n",
       "    <tr>\n",
       "      <th>SVM</th>\n",
       "      <td>0.9000</td>\n",
       "      <td>0.1369</td>\n",
       "      <td>0.8667</td>\n",
       "      <td>0.1826</td>\n",
       "      <td>1.0000</td>\n",
       "      <td>0.0000</td>\n",
       "    </tr>\n",
       "    <tr>\n",
       "      <th>XGBoost</th>\n",
       "      <td>0.6833</td>\n",
       "      <td>0.2075</td>\n",
       "      <td>0.5667</td>\n",
       "      <td>0.3651</td>\n",
       "      <td>0.8000</td>\n",
       "      <td>0.2739</td>\n",
       "    </tr>\n",
       "  </tbody>\n",
       "</table>\n",
       "<p>80 rows × 6 columns</p>\n",
       "</div>"
      ],
      "text/plain": [
       "                                    accuracy              f1         roc_auc  \\\n",
       "                                        mean     std    mean     std    mean   \n",
       "dataset          model                                                         \n",
       "exportBase_ILPD  KNN_Centroid         0.6509  0.1409  0.7447  0.1372  0.6429   \n",
       "                 KNN_Gridsearch       0.7109  0.0149  0.8047  0.0105  0.5571   \n",
       "                 LogisticRegression   0.6145  0.0735  0.7188  0.0676  0.6452   \n",
       "                 RandomForest         0.5764  0.0536  0.6679  0.0848  0.6881   \n",
       "                 SVM                  0.6927  0.0336  0.8050  0.0192  0.4786   \n",
       "...                                      ...     ...     ...     ...     ...   \n",
       "exportBase_sonar KNN_Gridsearch       0.9000  0.1369  0.8667  0.1826  0.9500   \n",
       "                 LogisticRegression   0.8333  0.1559  0.6667  0.4082  1.0000   \n",
       "                 RandomForest         0.7000  0.3260  0.5333  0.5055  0.8500   \n",
       "                 SVM                  0.9000  0.1369  0.8667  0.1826  1.0000   \n",
       "                 XGBoost              0.6833  0.2075  0.5667  0.3651  0.8000   \n",
       "\n",
       "                                             \n",
       "                                        std  \n",
       "dataset          model                       \n",
       "exportBase_ILPD  KNN_Centroid        0.1597  \n",
       "                 KNN_Gridsearch      0.1032  \n",
       "                 LogisticRegression  0.1348  \n",
       "                 RandomForest        0.0598  \n",
       "                 SVM                 0.1244  \n",
       "...                                     ...  \n",
       "exportBase_sonar KNN_Gridsearch      0.1118  \n",
       "                 LogisticRegression  0.0000  \n",
       "                 RandomForest        0.3354  \n",
       "                 SVM                 0.0000  \n",
       "                 XGBoost             0.2739  \n",
       "\n",
       "[80 rows x 6 columns]"
      ]
     },
     "execution_count": 48,
     "metadata": {},
     "output_type": "execute_result"
    }
   ],
   "source": [
    "import pandas as pd\n",
    "\n",
    "# Tabela: média e std por dataset e modelo\n",
    "tabela = (\n",
    "    df_results\n",
    "    .groupby(['dataset', 'model'])[['accuracy', 'f1', 'roc_auc']]\n",
    "    .agg(['mean', 'std'])\n",
    "    .round(4)\n",
    ")\n",
    "tabela"
   ]
  },
  {
   "cell_type": "code",
   "execution_count": 49,
   "metadata": {},
   "outputs": [
    {
     "data": {
      "image/png": "[encoded data removed]",
      "text/plain": [
       "<Figure size 1000x600 with 1 Axes>"
      ]
     },
     "metadata": {},
     "output_type": "display_data"
    }
   ],
   "source": [
    "import matplotlib.pyplot as plt\n",
    "import numpy as np\n",
    "\n",
    "# Supondo que df_results já está carregado\n",
    "modelos = df_results['model'].unique()\n",
    "data = [df_results[df_results['model'] == m]['accuracy'].values for m in modelos]\n",
    "\n",
    "plt.figure(figsize=(10, 6))\n",
    "\n",
    "box = plt.boxplot(\n",
    "    data,\n",
    "    patch_artist=True,\n",
    "    showmeans=True,\n",
    "    meanline=True,\n",
    "    boxprops=dict(facecolor='#a6cee3', color='#1f78b4', linewidth=1.5),\n",
    "    medianprops=dict(color='#e31a1c', linewidth=2),\n",
    "    meanprops=dict(color='black', linewidth=2),\n",
    "    whiskerprops=dict(color='#1f78b4', linewidth=1.5),\n",
    "    capprops=dict(color='#1f78b4', linewidth=1.5),\n",
    "    flierprops=dict(marker='o', markerfacecolor='#b2df8a', markersize=6, linestyle='none', markeredgecolor='#33a02c')\n",
    ")\n",
    "\n",
    "plt.xticks(np.arange(1, len(modelos)+1), modelos, fontsize=13, rotation=30, ha='right')\n",
    "plt.yticks(fontsize=13)\n",
    "plt.ylabel('Acurácia', fontsize=15)\n",
    "plt.xlabel('Modelo', fontsize=15)\n",
    "plt.title('Distribuição da Acurácia por Modelo', fontsize=17, pad=15)\n",
    "plt.grid(axis='y', linestyle='--', linewidth=0.7, alpha=0.6)\n",
    "plt.gca().spines['top'].set_visible(False)\n",
    "plt.gca().spines['right'].set_visible(False)\n",
    "plt.tight_layout()\n",
    "plt.savefig(\"boxplot_acuracia_modelos_matplotlib.png\", dpi=300, bbox_inches='tight')\n",
    "plt.show()"
   ]
  },
  {
   "cell_type": "code",
   "execution_count": 50,
   "metadata": {},
   "outputs": [
    {
     "data": {
      "image/png": "[encoded data removed]",
      "text/plain": [
       "<Figure size 1200x600 with 1 Axes>"
      ]
     },
     "metadata": {},
     "output_type": "display_data"
    }
   ],
   "source": [
    "# ... existing code ...\n",
    "import matplotlib.pyplot as plt\n",
    "import numpy as np\n",
    "\n",
    "# Calcula a média e o desvio padrão da acurácia por modelo e dataset\n",
    "summary = (\n",
    "    df_results\n",
    "    .groupby(['dataset', 'model'])['accuracy']\n",
    "    .agg(['mean', 'std'])\n",
    "    .reset_index()\n",
    ")\n",
    "\n",
    "# Ordena os modelos para manter a ordem nos gráficos\n",
    "modelos = summary['model'].unique()\n",
    "datasets = summary['dataset'].unique()\n",
    "x = np.arange(len(datasets))  # posição dos grupos (datasets)\n",
    "\n",
    "bar_width = 0.15\n",
    "offsets = np.linspace(-bar_width*2, bar_width*2, len(modelos))\n",
    "\n",
    "plt.figure(figsize=(12, 6))\n",
    "\n",
    "for i, model in enumerate(modelos):\n",
    "    means = []\n",
    "    stds = []\n",
    "    for ds in datasets:\n",
    "        row = summary[(summary['dataset'] == ds) & (summary['model'] == model)]\n",
    "        means.append(row['mean'].values[0] if not row.empty else np.nan)\n",
    "        stds.append(row['std'].values[0] if not row.empty else 0)\n",
    "    plt.bar(x + offsets[i], means, bar_width, label=model, yerr=stds, capsize=4)\n",
    "\n",
    "plt.xticks(x, datasets, fontsize=13, rotation=30, ha='right')\n",
    "plt.ylabel('Acurácia Média', fontsize=15)\n",
    "plt.xlabel('Dataset', fontsize=15)\n",
    "plt.title('Acurácia Média por Modelo e Dataset', fontsize=17, pad=15)\n",
    "plt.legend(title='Modelo', fontsize=12)\n",
    "plt.grid(axis='y', linestyle='--', linewidth=0.7, alpha=0.6)\n",
    "plt.tight_layout()\n",
    "plt.savefig(\"barras_acuracia_modelos.png\", dpi=300, bbox_inches='tight')\n",
    "plt.show()\n",
    "# ... existing code ..."
   ]
  },
  {
   "cell_type": "code",
   "execution_count": 24,
   "metadata": {},
   "outputs": [
    {
     "data": {
      "text/html": [
       "<div>\n",
       "<style scoped>\n",
       "    .dataframe tbody tr th:only-of-type {\n",
       "        vertical-align: middle;\n",
       "    }\n",
       "\n",
       "    .dataframe tbody tr th {\n",
       "        vertical-align: top;\n",
       "    }\n",
       "\n",
       "    .dataframe thead th {\n",
       "        text-align: right;\n",
       "    }\n",
       "</style>\n",
       "<table border=\"1\" class=\"dataframe\">\n",
       "  <thead>\n",
       "    <tr style=\"text-align: right;\">\n",
       "      <th>model</th>\n",
       "      <th>KNN_Centroid</th>\n",
       "      <th>LogisticRegression</th>\n",
       "      <th>RandomForest</th>\n",
       "      <th>SVM</th>\n",
       "      <th>XGBoost</th>\n",
       "    </tr>\n",
       "    <tr>\n",
       "      <th>dataset</th>\n",
       "      <th></th>\n",
       "      <th></th>\n",
       "      <th></th>\n",
       "      <th></th>\n",
       "      <th></th>\n",
       "    </tr>\n",
       "  </thead>\n",
       "  <tbody>\n",
       "    <tr>\n",
       "      <th>adult_income</th>\n",
       "      <td>0.810983</td>\n",
       "      <td>0.845444</td>\n",
       "      <td>0.849004</td>\n",
       "      <td>0.839574</td>\n",
       "      <td>0.858158</td>\n",
       "    </tr>\n",
       "    <tr>\n",
       "      <th>bank_marketing</th>\n",
       "      <td>0.889593</td>\n",
       "      <td>0.899418</td>\n",
       "      <td>0.901188</td>\n",
       "      <td>0.896202</td>\n",
       "      <td>0.899782</td>\n",
       "    </tr>\n",
       "    <tr>\n",
       "      <th>default_of_credit_card_clients</th>\n",
       "      <td>0.670705</td>\n",
       "      <td>0.637634</td>\n",
       "      <td>0.692192</td>\n",
       "      <td>0.694314</td>\n",
       "      <td>0.685208</td>\n",
       "    </tr>\n",
       "    <tr>\n",
       "      <th>magic_gamma_telescope</th>\n",
       "      <td>0.842376</td>\n",
       "      <td>0.791167</td>\n",
       "      <td>0.881966</td>\n",
       "      <td>0.869664</td>\n",
       "      <td>0.881335</td>\n",
       "    </tr>\n",
       "    <tr>\n",
       "      <th>phishing_websites</th>\n",
       "      <td>0.946359</td>\n",
       "      <td>0.926640</td>\n",
       "      <td>0.971054</td>\n",
       "      <td>0.951606</td>\n",
       "      <td>0.971687</td>\n",
       "    </tr>\n",
       "  </tbody>\n",
       "</table>\n",
       "</div>"
      ],
      "text/plain": [
       "model                           KNN_Centroid  LogisticRegression  \\\n",
       "dataset                                                            \n",
       "adult_income                        0.810983            0.845444   \n",
       "bank_marketing                      0.889593            0.899418   \n",
       "default_of_credit_card_clients      0.670705            0.637634   \n",
       "magic_gamma_telescope               0.842376            0.791167   \n",
       "phishing_websites                   0.946359            0.926640   \n",
       "\n",
       "model                           RandomForest       SVM   XGBoost  \n",
       "dataset                                                           \n",
       "adult_income                        0.849004  0.839574  0.858158  \n",
       "bank_marketing                      0.901188  0.896202  0.899782  \n",
       "default_of_credit_card_clients      0.692192  0.694314  0.685208  \n",
       "magic_gamma_telescope               0.881966  0.869664  0.881335  \n",
       "phishing_websites                   0.971054  0.951606  0.971687  "
      ]
     },
     "execution_count": 24,
     "metadata": {},
     "output_type": "execute_result"
    }
   ],
   "source": [
    "# Supondo que df_results já está carregado\n",
    "# Calcula a acurácia média por dataset e modelo\n",
    "pivot = (\n",
    "    df_results\n",
    "    .groupby(['dataset', 'model'])['accuracy']\n",
    "    .mean()\n",
    "    .unstack()  # linhas: datasets, colunas: modelos\n",
    ")\n",
    "pivot"
   ]
  },
  {
   "cell_type": "code",
   "execution_count": 25,
   "metadata": {},
   "outputs": [
    {
     "name": "stdout",
     "output_type": "stream",
     "text": [
      "Friedman statistic: 13.6000, p-value: 0.0087\n",
      "Há diferença estatística significativa entre os modelos (p < 0.05).\n"
     ]
    }
   ],
   "source": [
    "from scipy.stats import friedmanchisquare\n",
    "\n",
    "# O teste espera cada modelo como um array (coluna)\n",
    "stat, p = friedmanchisquare(*[pivot[model].values for model in pivot.columns])\n",
    "print(f\"Friedman statistic: {stat:.4f}, p-value: {p:.4f}\")\n",
    "\n",
    "if p < 0.05:\n",
    "    print(\"Há diferença estatística significativa entre os modelos (p < 0.05).\")\n",
    "else:\n",
    "    print(\"Não há diferença estatística significativa entre os modelos (p >= 0.05).\")"
   ]
  },
  {
   "cell_type": "code",
   "execution_count": 33,
   "metadata": {},
   "outputs": [
    {
     "name": "stdout",
     "output_type": "stream",
     "text": [
      "Matriz de p-valores do teste de Nemenyi:\n",
      "          0         1         2         3         4\n",
      "0  1.000000  0.999644  0.040876  0.627659  0.070324\n",
      "1  0.999644  1.000000  0.070324  0.751424  0.115233\n",
      "2  0.040876  0.070324  1.000000  0.627659  0.999644\n",
      "3  0.627659  0.751424  0.627659  1.000000  0.751424\n",
      "4  0.070324  0.115233  0.999644  0.751424  1.000000\n"
     ]
    }
   ],
   "source": [
    "import scikit_posthocs as sp\n",
    "\n",
    "# ranks: matriz de ranks (datasets x modelos)\n",
    "ranks = pivot.rank(axis=1, ascending=False, method='min')\n",
    "\n",
    "nemenyi = sp.posthoc_nemenyi_friedman(pivot.values)\n",
    "print(\"Matriz de p-valores do teste de Nemenyi:\")\n",
    "print(nemenyi)"
   ]
  },
  {
   "cell_type": "code",
   "execution_count": 34,
   "metadata": {},
   "outputs": [
    {
     "data": {
      "image/png": "[encoded data removed]",
      "text/plain": [
       "<Figure size 800x500 with 2 Axes>"
      ]
     },
     "metadata": {},
     "output_type": "display_data"
    }
   ],
   "source": [
    "import matplotlib.pyplot as plt\n",
    "\n",
    "plt.figure(figsize=(8, 5))\n",
    "plt.imshow(ranks, cmap='viridis', aspect='auto')\n",
    "plt.colorbar(label='Rank')\n",
    "plt.xticks(ticks=range(len(ranks.columns)), labels=ranks.columns, rotation=45)\n",
    "plt.yticks(ticks=range(len(ranks.index)), labels=ranks.index)\n",
    "plt.title('Heatmap dos Ranks dos Modelos por Dataset')\n",
    "plt.xlabel('Modelo')\n",
    "plt.ylabel('Dataset')\n",
    "plt.tight_layout()\n",
    "plt.show()"
   ]
  },
  {
   "cell_type": "code",
   "execution_count": 35,
   "metadata": {},
   "outputs": [
    {
     "data": {
      "image/png": "[encoded data removed]",
      "text/plain": [
       "<Figure size 800x500 with 1 Axes>"
      ]
     },
     "metadata": {},
     "output_type": "display_data"
    }
   ],
   "source": [
    "rank_medio = ranks.mean(axis=0).sort_values()\n",
    "plt.figure(figsize=(8, 5))\n",
    "plt.bar(rank_medio.index, rank_medio.values, color='skyblue')\n",
    "plt.ylabel('Rank Médio')\n",
    "plt.xlabel('Modelo')\n",
    "plt.title('Rank Médio dos Modelos (menor é melhor)')\n",
    "plt.tight_layout()\n",
    "plt.show()"
   ]
  },
  {
   "cell_type": "markdown",
   "metadata": {},
   "source": [
    "---"
   ]
  },
  {
   "cell_type": "markdown",
   "metadata": {},
   "source": [
    "## Teste Bases pequenas"
   ]
  },
  {
   "cell_type": "code",
   "execution_count": 4,
   "metadata": {},
   "outputs": [
    {
     "name": "stderr",
     "output_type": "stream",
     "text": [
      "Carregando datasets: 100%|██████████| 15/15 [00:00<00:00, 300.73it/s]\n"
     ]
    }
   ],
   "source": [
    "import os\n",
    "import scipy.io\n",
    "import numpy as np\n",
    "import pandas as pd\n",
    "from tqdm import tqdm\n",
    "from sklearn.preprocessing import StandardScaler\n",
    "\n",
    "pasta = 'data/dados'\n",
    "arquivos_mat = [f for f in os.listdir(pasta) if f.endswith('_1.mat')]\n",
    "datasets_mat = {}\n",
    "\n",
    "for arquivo in tqdm(arquivos_mat, desc=\"Carregando datasets\"):\n",
    "    mat_data = scipy.io.loadmat(os.path.join(pasta, arquivo))\n",
    "    nome_dataset = '_'.join(arquivo.split('_')[:2])\n",
    "    X, y = mat_data['data'][0][0][0], mat_data['data'][0][0][1]\n",
    "    \n",
    "    # Normaliza os dados (sem PCA)\n",
    "    scaler = StandardScaler()\n",
    "    X_scaled = scaler.fit_transform(X)\n",
    "    \n",
    "    # Garante que y seja 1D e valores sejam -1 ou 1\n",
    "    y = y.flatten()\n",
    "    y = np.where(y == 0, -1, y)  # Converter possíveis 0s para -1\n",
    "\n",
    "    # Cria DataFrame igual aos outros datasets\n",
    "    colunas = [f'feat_{i}' for i in range(X_scaled.shape[1])]\n",
    "    df = pd.DataFrame(X_scaled, columns=colunas)\n",
    "    df['target'] = y\n",
    "\n",
    "    datasets_mat[nome_dataset] = df"
   ]
  },
  {
   "cell_type": "code",
   "execution_count": 8,
   "metadata": {},
   "outputs": [
    {
     "name": "stderr",
     "output_type": "stream",
     "text": [
      "Datasets:   0%|          | 0/15 [00:00<?, ?it/s]"
     ]
    },
    {
     "name": "stdout",
     "output_type": "stream",
     "text": [
      "\n",
      "=== Rodando para dataset: exportBase_climate ===\n"
     ]
    },
    {
     "name": "stderr",
     "output_type": "stream",
     "text": []
    },
    {
     "name": "stdout",
     "output_type": "stream",
     "text": [
      "  -> Rodando modelo: KNN_Gridsearch\n"
     ]
    },
    {
     "name": "stderr",
     "output_type": "stream",
     "text": []
    },
    {
     "name": "stdout",
     "output_type": "stream",
     "text": [
      "  -> Rodando modelo: KNN_Centroid\n"
     ]
    },
    {
     "name": "stderr",
     "output_type": "stream",
     "text": []
    },
    {
     "name": "stdout",
     "output_type": "stream",
     "text": [
      "  -> Rodando modelo: RandomForest\n"
     ]
    },
    {
     "name": "stderr",
     "output_type": "stream",
     "text": []
    },
    {
     "name": "stdout",
     "output_type": "stream",
     "text": [
      "  -> Rodando modelo: SVM\n",
      "  -> Rodando modelo: LogisticRegression\n",
      "  -> Rodando modelo: XGBoost\n"
     ]
    },
    {
     "name": "stderr",
     "output_type": "stream",
     "text": [
      "Datasets:   7%|▋         | 1/15 [22:57<5:21:27, 1377.66s/it]"
     ]
    },
    {
     "name": "stdout",
     "output_type": "stream",
     "text": [
      "\n",
      "=== Rodando para dataset: exportBase_bupa ===\n"
     ]
    },
    {
     "name": "stderr",
     "output_type": "stream",
     "text": []
    },
    {
     "name": "stdout",
     "output_type": "stream",
     "text": [
      "  -> Rodando modelo: KNN_Gridsearch\n"
     ]
    },
    {
     "name": "stderr",
     "output_type": "stream",
     "text": []
    },
    {
     "name": "stdout",
     "output_type": "stream",
     "text": [
      "  -> Rodando modelo: KNN_Centroid\n"
     ]
    },
    {
     "name": "stderr",
     "output_type": "stream",
     "text": []
    },
    {
     "name": "stdout",
     "output_type": "stream",
     "text": [
      "  -> Rodando modelo: RandomForest\n"
     ]
    },
    {
     "name": "stderr",
     "output_type": "stream",
     "text": []
    },
    {
     "name": "stdout",
     "output_type": "stream",
     "text": [
      "  -> Rodando modelo: SVM\n",
      "  -> Rodando modelo: LogisticRegression\n",
      "  -> Rodando modelo: XGBoost\n"
     ]
    },
    {
     "name": "stderr",
     "output_type": "stream",
     "text": [
      "Datasets:  13%|█▎        | 2/15 [25:01<2:18:44, 640.32s/it] "
     ]
    },
    {
     "name": "stdout",
     "output_type": "stream",
     "text": [
      "\n",
      "=== Rodando para dataset: exportBase_ILPD ===\n"
     ]
    },
    {
     "name": "stderr",
     "output_type": "stream",
     "text": []
    },
    {
     "name": "stdout",
     "output_type": "stream",
     "text": [
      "  -> Rodando modelo: KNN_Gridsearch\n"
     ]
    },
    {
     "name": "stderr",
     "output_type": "stream",
     "text": []
    },
    {
     "name": "stdout",
     "output_type": "stream",
     "text": [
      "  -> Rodando modelo: KNN_Centroid\n"
     ]
    },
    {
     "name": "stderr",
     "output_type": "stream",
     "text": []
    },
    {
     "name": "stdout",
     "output_type": "stream",
     "text": [
      "  -> Rodando modelo: RandomForest\n"
     ]
    },
    {
     "name": "stderr",
     "output_type": "stream",
     "text": []
    },
    {
     "name": "stdout",
     "output_type": "stream",
     "text": [
      "  -> Rodando modelo: SVM\n",
      "  -> Rodando modelo: LogisticRegression\n",
      "  -> Rodando modelo: XGBoost\n"
     ]
    },
    {
     "name": "stderr",
     "output_type": "stream",
     "text": [
      "Datasets:  20%|██        | 3/15 [33:23<1:55:25, 577.16s/it]"
     ]
    },
    {
     "name": "stdout",
     "output_type": "stream",
     "text": [
      "\n",
      "=== Rodando para dataset: exportBase_german ===\n"
     ]
    },
    {
     "name": "stderr",
     "output_type": "stream",
     "text": []
    },
    {
     "name": "stdout",
     "output_type": "stream",
     "text": [
      "  -> Rodando modelo: KNN_Gridsearch\n"
     ]
    },
    {
     "name": "stderr",
     "output_type": "stream",
     "text": []
    },
    {
     "name": "stdout",
     "output_type": "stream",
     "text": [
      "  -> Rodando modelo: KNN_Centroid\n"
     ]
    },
    {
     "name": "stderr",
     "output_type": "stream",
     "text": []
    },
    {
     "name": "stdout",
     "output_type": "stream",
     "text": [
      "  -> Rodando modelo: RandomForest\n"
     ]
    },
    {
     "name": "stderr",
     "output_type": "stream",
     "text": []
    },
    {
     "name": "stdout",
     "output_type": "stream",
     "text": [
      "  -> Rodando modelo: SVM\n"
     ]
    },
    {
     "name": "stderr",
     "output_type": "stream",
     "text": []
    },
    {
     "name": "stdout",
     "output_type": "stream",
     "text": [
      "  -> Rodando modelo: LogisticRegression\n"
     ]
    },
    {
     "name": "stderr",
     "output_type": "stream",
     "text": []
    },
    {
     "name": "stdout",
     "output_type": "stream",
     "text": [
      "  -> Rodando modelo: XGBoost\n"
     ]
    },
    {
     "name": "stderr",
     "output_type": "stream",
     "text": [
      "Datasets:  27%|██▋       | 4/15 [1:26:32<4:54:49, 1608.10s/it]"
     ]
    },
    {
     "name": "stdout",
     "output_type": "stream",
     "text": [
      "\n",
      "=== Rodando para dataset: exportBase_haberman ===\n"
     ]
    },
    {
     "name": "stderr",
     "output_type": "stream",
     "text": []
    },
    {
     "name": "stdout",
     "output_type": "stream",
     "text": [
      "  -> Rodando modelo: KNN_Gridsearch\n"
     ]
    },
    {
     "name": "stderr",
     "output_type": "stream",
     "text": []
    },
    {
     "name": "stdout",
     "output_type": "stream",
     "text": [
      "  -> Rodando modelo: KNN_Centroid\n"
     ]
    },
    {
     "name": "stderr",
     "output_type": "stream",
     "text": []
    },
    {
     "name": "stdout",
     "output_type": "stream",
     "text": [
      "  -> Rodando modelo: RandomForest\n"
     ]
    },
    {
     "name": "stderr",
     "output_type": "stream",
     "text": []
    },
    {
     "name": "stdout",
     "output_type": "stream",
     "text": [
      "  -> Rodando modelo: SVM\n",
      "  -> Rodando modelo: LogisticRegression\n",
      "  -> Rodando modelo: XGBoost\n"
     ]
    },
    {
     "name": "stderr",
     "output_type": "stream",
     "text": [
      "Datasets:  33%|███▎      | 5/15 [1:28:17<2:57:42, 1066.26s/it]"
     ]
    },
    {
     "name": "stdout",
     "output_type": "stream",
     "text": [
      "\n",
      "=== Rodando para dataset: exportBase_golub ===\n"
     ]
    },
    {
     "name": "stderr",
     "output_type": "stream",
     "text": []
    },
    {
     "name": "stdout",
     "output_type": "stream",
     "text": [
      "  -> Rodando modelo: KNN_Gridsearch\n"
     ]
    },
    {
     "name": "stderr",
     "output_type": "stream",
     "text": []
    },
    {
     "name": "stdout",
     "output_type": "stream",
     "text": [
      "  -> Rodando modelo: KNN_Centroid\n"
     ]
    },
    {
     "name": "stderr",
     "output_type": "stream",
     "text": []
    },
    {
     "name": "stdout",
     "output_type": "stream",
     "text": [
      "  -> Rodando modelo: RandomForest\n"
     ]
    },
    {
     "name": "stderr",
     "output_type": "stream",
     "text": []
    },
    {
     "name": "stdout",
     "output_type": "stream",
     "text": [
      "  -> Rodando modelo: SVM\n",
      "  -> Rodando modelo: LogisticRegression\n",
      "  -> Rodando modelo: XGBoost\n"
     ]
    },
    {
     "name": "stderr",
     "output_type": "stream",
     "text": [
      "Datasets:  40%|████      | 6/15 [1:31:47<1:56:15, 775.07s/it] "
     ]
    },
    {
     "name": "stdout",
     "output_type": "stream",
     "text": [
      "\n",
      "=== Rodando para dataset: exportBase_parkinsons ===\n"
     ]
    },
    {
     "name": "stderr",
     "output_type": "stream",
     "text": []
    },
    {
     "name": "stdout",
     "output_type": "stream",
     "text": [
      "  -> Rodando modelo: KNN_Gridsearch\n"
     ]
    },
    {
     "name": "stderr",
     "output_type": "stream",
     "text": []
    },
    {
     "name": "stdout",
     "output_type": "stream",
     "text": [
      "  -> Rodando modelo: KNN_Centroid\n"
     ]
    },
    {
     "name": "stderr",
     "output_type": "stream",
     "text": []
    },
    {
     "name": "stdout",
     "output_type": "stream",
     "text": [
      "  -> Rodando modelo: RandomForest\n"
     ]
    },
    {
     "name": "stderr",
     "output_type": "stream",
     "text": []
    },
    {
     "name": "stdout",
     "output_type": "stream",
     "text": [
      "  -> Rodando modelo: SVM\n",
      "  -> Rodando modelo: LogisticRegression\n",
      "  -> Rodando modelo: XGBoost\n"
     ]
    },
    {
     "name": "stderr",
     "output_type": "stream",
     "text": [
      "Datasets:  47%|████▋     | 7/15 [1:41:10<1:34:05, 705.68s/it]"
     ]
    },
    {
     "name": "stdout",
     "output_type": "stream",
     "text": [
      "\n",
      "=== Rodando para dataset: exportBase_heart ===\n"
     ]
    },
    {
     "name": "stderr",
     "output_type": "stream",
     "text": []
    },
    {
     "name": "stdout",
     "output_type": "stream",
     "text": [
      "  -> Rodando modelo: KNN_Gridsearch\n"
     ]
    },
    {
     "name": "stderr",
     "output_type": "stream",
     "text": []
    },
    {
     "name": "stdout",
     "output_type": "stream",
     "text": [
      "  -> Rodando modelo: KNN_Centroid\n"
     ]
    },
    {
     "name": "stderr",
     "output_type": "stream",
     "text": []
    },
    {
     "name": "stdout",
     "output_type": "stream",
     "text": [
      "  -> Rodando modelo: RandomForest\n"
     ]
    },
    {
     "name": "stderr",
     "output_type": "stream",
     "text": []
    },
    {
     "name": "stdout",
     "output_type": "stream",
     "text": [
      "  -> Rodando modelo: SVM\n",
      "  -> Rodando modelo: LogisticRegression\n",
      "  -> Rodando modelo: XGBoost\n"
     ]
    },
    {
     "name": "stderr",
     "output_type": "stream",
     "text": [
      "Datasets:  53%|█████▎    | 8/15 [1:45:57<1:06:45, 572.28s/it]"
     ]
    },
    {
     "name": "stdout",
     "output_type": "stream",
     "text": [
      "\n",
      "=== Rodando para dataset: exportBase_australian ===\n"
     ]
    },
    {
     "name": "stderr",
     "output_type": "stream",
     "text": []
    },
    {
     "name": "stdout",
     "output_type": "stream",
     "text": [
      "  -> Rodando modelo: KNN_Gridsearch\n"
     ]
    },
    {
     "name": "stderr",
     "output_type": "stream",
     "text": []
    },
    {
     "name": "stdout",
     "output_type": "stream",
     "text": [
      "  -> Rodando modelo: KNN_Centroid\n"
     ]
    },
    {
     "name": "stderr",
     "output_type": "stream",
     "text": []
    },
    {
     "name": "stdout",
     "output_type": "stream",
     "text": [
      "  -> Rodando modelo: RandomForest\n"
     ]
    },
    {
     "name": "stderr",
     "output_type": "stream",
     "text": []
    },
    {
     "name": "stdout",
     "output_type": "stream",
     "text": [
      "  -> Rodando modelo: SVM\n",
      "  -> Rodando modelo: LogisticRegression\n",
      "  -> Rodando modelo: XGBoost\n"
     ]
    },
    {
     "name": "stderr",
     "output_type": "stream",
     "text": [
      "Datasets:  60%|██████    | 9/15 [2:00:05<1:05:52, 658.67s/it]"
     ]
    },
    {
     "name": "stdout",
     "output_type": "stream",
     "text": [
      "\n",
      "=== Rodando para dataset: exportBase_breastHess ===\n"
     ]
    },
    {
     "name": "stderr",
     "output_type": "stream",
     "text": []
    },
    {
     "name": "stdout",
     "output_type": "stream",
     "text": [
      "  -> Rodando modelo: KNN_Gridsearch\n"
     ]
    },
    {
     "name": "stderr",
     "output_type": "stream",
     "text": []
    },
    {
     "name": "stdout",
     "output_type": "stream",
     "text": [
      "  -> Rodando modelo: KNN_Centroid\n"
     ]
    },
    {
     "name": "stderr",
     "output_type": "stream",
     "text": []
    },
    {
     "name": "stdout",
     "output_type": "stream",
     "text": [
      "  -> Rodando modelo: RandomForest\n"
     ]
    },
    {
     "name": "stderr",
     "output_type": "stream",
     "text": []
    },
    {
     "name": "stdout",
     "output_type": "stream",
     "text": [
      "  -> Rodando modelo: SVM\n",
      "  -> Rodando modelo: LogisticRegression\n",
      "  -> Rodando modelo: XGBoost\n"
     ]
    },
    {
     "name": "stderr",
     "output_type": "stream",
     "text": [
      "Datasets:  67%|██████▋   | 10/15 [2:07:01<48:38, 583.76s/it] "
     ]
    },
    {
     "name": "stdout",
     "output_type": "stream",
     "text": [
      "\n",
      "=== Rodando para dataset: exportBase_sonar ===\n"
     ]
    },
    {
     "name": "stderr",
     "output_type": "stream",
     "text": []
    },
    {
     "name": "stdout",
     "output_type": "stream",
     "text": [
      "  -> Rodando modelo: KNN_Gridsearch\n"
     ]
    },
    {
     "name": "stderr",
     "output_type": "stream",
     "text": []
    },
    {
     "name": "stdout",
     "output_type": "stream",
     "text": [
      "  -> Rodando modelo: KNN_Centroid\n"
     ]
    },
    {
     "name": "stderr",
     "output_type": "stream",
     "text": []
    },
    {
     "name": "stdout",
     "output_type": "stream",
     "text": [
      "  -> Rodando modelo: RandomForest\n"
     ]
    },
    {
     "name": "stderr",
     "output_type": "stream",
     "text": []
    },
    {
     "name": "stdout",
     "output_type": "stream",
     "text": [
      "  -> Rodando modelo: SVM\n",
      "  -> Rodando modelo: LogisticRegression\n",
      "  -> Rodando modelo: XGBoost\n"
     ]
    },
    {
     "name": "stderr",
     "output_type": "stream",
     "text": [
      "Datasets:  73%|███████▎  | 11/15 [2:34:10<1:00:14, 903.61s/it]"
     ]
    },
    {
     "name": "stdout",
     "output_type": "stream",
     "text": [
      "\n",
      "=== Rodando para dataset: exportBase_breastcancer ===\n"
     ]
    },
    {
     "name": "stderr",
     "output_type": "stream",
     "text": []
    },
    {
     "name": "stdout",
     "output_type": "stream",
     "text": [
      "  -> Rodando modelo: KNN_Gridsearch\n"
     ]
    },
    {
     "name": "stderr",
     "output_type": "stream",
     "text": []
    },
    {
     "name": "stdout",
     "output_type": "stream",
     "text": [
      "  -> Rodando modelo: KNN_Centroid\n"
     ]
    },
    {
     "name": "stderr",
     "output_type": "stream",
     "text": []
    },
    {
     "name": "stdout",
     "output_type": "stream",
     "text": [
      "  -> Rodando modelo: RandomForest\n"
     ]
    },
    {
     "name": "stderr",
     "output_type": "stream",
     "text": []
    },
    {
     "name": "stdout",
     "output_type": "stream",
     "text": [
      "  -> Rodando modelo: SVM\n",
      "  -> Rodando modelo: LogisticRegression\n",
      "  -> Rodando modelo: XGBoost\n"
     ]
    },
    {
     "name": "stderr",
     "output_type": "stream",
     "text": [
      "Datasets:  80%|████████  | 12/15 [2:38:27<35:20, 707.00s/it]  "
     ]
    },
    {
     "name": "stdout",
     "output_type": "stream",
     "text": [
      "\n",
      "=== Rodando para dataset: exportBase_fertility ===\n"
     ]
    },
    {
     "name": "stderr",
     "output_type": "stream",
     "text": []
    },
    {
     "name": "stdout",
     "output_type": "stream",
     "text": [
      "  -> Rodando modelo: KNN_Gridsearch\n"
     ]
    },
    {
     "name": "stderr",
     "output_type": "stream",
     "text": []
    },
    {
     "name": "stdout",
     "output_type": "stream",
     "text": [
      "  -> Rodando modelo: KNN_Centroid\n"
     ]
    },
    {
     "name": "stderr",
     "output_type": "stream",
     "text": []
    },
    {
     "name": "stdout",
     "output_type": "stream",
     "text": [
      "  -> Rodando modelo: RandomForest\n"
     ]
    },
    {
     "name": "stderr",
     "output_type": "stream",
     "text": []
    },
    {
     "name": "stdout",
     "output_type": "stream",
     "text": [
      "  -> Rodando modelo: SVM\n",
      "  -> Rodando modelo: LogisticRegression\n",
      "  -> Rodando modelo: XGBoost\n"
     ]
    },
    {
     "name": "stderr",
     "output_type": "stream",
     "text": [
      "Datasets:  87%|████████▋ | 13/15 [2:38:53<16:41, 500.59s/it]"
     ]
    },
    {
     "name": "stdout",
     "output_type": "stream",
     "text": [
      "\n",
      "=== Rodando para dataset: exportBase_diabetes ===\n"
     ]
    },
    {
     "name": "stderr",
     "output_type": "stream",
     "text": []
    },
    {
     "name": "stdout",
     "output_type": "stream",
     "text": [
      "  -> Rodando modelo: KNN_Gridsearch\n"
     ]
    },
    {
     "name": "stderr",
     "output_type": "stream",
     "text": []
    },
    {
     "name": "stdout",
     "output_type": "stream",
     "text": [
      "  -> Rodando modelo: KNN_Centroid\n"
     ]
    },
    {
     "name": "stderr",
     "output_type": "stream",
     "text": []
    },
    {
     "name": "stdout",
     "output_type": "stream",
     "text": [
      "  -> Rodando modelo: RandomForest\n"
     ]
    },
    {
     "name": "stderr",
     "output_type": "stream",
     "text": []
    },
    {
     "name": "stdout",
     "output_type": "stream",
     "text": [
      "  -> Rodando modelo: SVM\n",
      "  -> Rodando modelo: LogisticRegression\n",
      "  -> Rodando modelo: XGBoost\n"
     ]
    },
    {
     "name": "stderr",
     "output_type": "stream",
     "text": [
      "Datasets:  93%|█████████▎| 14/15 [2:44:25<07:29, 449.52s/it]"
     ]
    },
    {
     "name": "stdout",
     "output_type": "stream",
     "text": [
      "\n",
      "=== Rodando para dataset: exportBase_banknote ===\n"
     ]
    },
    {
     "name": "stderr",
     "output_type": "stream",
     "text": []
    },
    {
     "name": "stdout",
     "output_type": "stream",
     "text": [
      "  -> Rodando modelo: KNN_Gridsearch\n"
     ]
    },
    {
     "name": "stderr",
     "output_type": "stream",
     "text": []
    },
    {
     "name": "stdout",
     "output_type": "stream",
     "text": [
      "  -> Rodando modelo: KNN_Centroid\n"
     ]
    },
    {
     "name": "stderr",
     "output_type": "stream",
     "text": []
    },
    {
     "name": "stdout",
     "output_type": "stream",
     "text": [
      "  -> Rodando modelo: RandomForest\n"
     ]
    },
    {
     "name": "stderr",
     "output_type": "stream",
     "text": []
    },
    {
     "name": "stdout",
     "output_type": "stream",
     "text": [
      "  -> Rodando modelo: SVM\n",
      "  -> Rodando modelo: LogisticRegression\n",
      "  -> Rodando modelo: XGBoost\n"
     ]
    },
    {
     "name": "stderr",
     "output_type": "stream",
     "text": [
      "Datasets: 100%|██████████| 15/15 [2:52:20<00:00, 689.34s/it]"
     ]
    },
    {
     "name": "stdout",
     "output_type": "stream",
     "text": [
      "Resultados salvos em data/resultados_modelos_cv_mat.csv\n"
     ]
    },
    {
     "name": "stderr",
     "output_type": "stream",
     "text": [
      "\n"
     ]
    }
   ],
   "source": [
    "import pandas as pd\n",
    "from tqdm import tqdm\n",
    "\n",
    "# Defina aqui a fração dos dados que deseja usar (ex: 1.0 para tudo, 0.2 para 20%)\n",
    "frac = 1  # Altere para testar mais rápido\n",
    "\n",
    "model_funcs = {\n",
    "    \"KNN_Gridsearch\": evaluate_knn_centroid_distance_gridsearch,\n",
    "    \"KNN_Centroid\": evaluate_knn_centroid_distance,\n",
    "    \"RandomForest\": evaluate_random_forest,\n",
    "    \"SVM\": evaluate_svm,\n",
    "    \"LogisticRegression\": evaluate_logistic_regression,\n",
    "    \"XGBoost\": evaluate_xgboost,\n",
    "}\n",
    "\n",
    "all_results = []\n",
    "\n",
    "for dataset_name, dataset_df in tqdm(datasets_mat.items(), desc=\"Datasets\"):\n",
    "    print(f\"\\n=== Rodando para dataset: {dataset_name} ===\")\n",
    "    for model_name, model_func in tqdm(model_funcs.items(), desc=f\"Modelos ({dataset_name})\", leave=False, position=1):\n",
    "        print(f\"  -> Rodando modelo: {model_name}\")\n",
    "        try:\n",
    "            results = model_func(dataset_df, frac=frac)\n",
    "            n_folds = len(results['accuracy'])\n",
    "            for i in range(n_folds):\n",
    "                all_results.append({\n",
    "                    \"dataset\": dataset_name,\n",
    "                    \"model\": model_name,\n",
    "                    \"run\": i+1,\n",
    "                    \"accuracy\": results['accuracy'][i],\n",
    "                    \"f1\": results['f1'][i],\n",
    "                    \"roc_auc\": results['roc_auc'][i],\n",
    "                    \"mcc\": results['mcc'][i],\n",
    "                    \"train_time\": results['train_time'][i],\n",
    "                    \"frac\": frac,\n",
    "                })\n",
    "        except Exception as e:\n",
    "            print(f\"Erro inesperado para {model_name} em {dataset_name}: {e}\")\n",
    "            continue\n",
    "\n",
    "df_results = pd.DataFrame(all_results)\n",
    "df_results.to_csv(\"data/resultados_modelos_cv_mat.csv\", index=False)\n",
    "print(\"Resultados salvos em data/resultados_modelos_cv_mat.csv\")"
   ]
  },
  {
   "cell_type": "code",
   "execution_count": 5,
   "metadata": {},
   "outputs": [],
   "source": [
    "df_results = pd.read_csv(\"data/resultados_modelos_cv_mat.csv\")"
   ]
  },
  {
   "cell_type": "code",
   "execution_count": 6,
   "metadata": {},
   "outputs": [
    {
     "data": {
      "text/plain": [
       "model               dataset                \n",
       "KNN_Centroid        exportBase_ILPD            0.656319\n",
       "                    exportBase_australian      0.834116\n",
       "                    exportBase_banknote        0.997571\n",
       "                    exportBase_breastHess      0.833333\n",
       "                    exportBase_breastcancer    0.973917\n",
       "                    exportBase_bupa            0.645161\n",
       "                    exportBase_climate         0.921797\n",
       "                    exportBase_diabetes        0.753915\n",
       "                    exportBase_fertility       0.877778\n",
       "                    exportBase_german          0.721111\n",
       "                    exportBase_golub           0.764103\n",
       "                    exportBase_haberman        0.760000\n",
       "                    exportBase_heart           0.830697\n",
       "                    exportBase_parkinsons      0.914921\n",
       "                    exportBase_sonar           0.818065\n",
       "KNN_Gridsearch      exportBase_ILPD            0.736978\n",
       "                    exportBase_australian      0.871148\n",
       "                    exportBase_banknote        1.000000\n",
       "                    exportBase_breastHess      0.866667\n",
       "                    exportBase_breastcancer    0.977156\n",
       "                    exportBase_bupa            0.712903\n",
       "                    exportBase_climate         0.927982\n",
       "                    exportBase_diabetes        0.774184\n",
       "                    exportBase_fertility       0.900000\n",
       "                    exportBase_german          0.743333\n",
       "                    exportBase_golub           0.828205\n",
       "                    exportBase_haberman        0.781818\n",
       "                    exportBase_heart           0.872024\n",
       "                    exportBase_parkinsons      0.983175\n",
       "                    exportBase_sonar           0.871408\n",
       "LogisticRegression  exportBase_ILPD            0.721612\n",
       "                    exportBase_australian      0.869510\n",
       "                    exportBase_banknote        0.980567\n",
       "                    exportBase_breastHess      0.800000\n",
       "                    exportBase_breastcancer    0.965760\n",
       "                    exportBase_bupa            0.690323\n",
       "                    exportBase_climate         0.962950\n",
       "                    exportBase_diabetes        0.772745\n",
       "                    exportBase_fertility       0.866667\n",
       "                    exportBase_german          0.768889\n",
       "                    exportBase_golub           0.751282\n",
       "                    exportBase_haberman        0.741818\n",
       "                    exportBase_heart           0.851361\n",
       "                    exportBase_parkinsons      0.846825\n",
       "                    exportBase_sonar           0.780797\n",
       "RandomForest        exportBase_ILPD            0.698608\n",
       "                    exportBase_australian      0.871123\n",
       "                    exportBase_banknote        0.992713\n",
       "                    exportBase_breastHess      0.825000\n",
       "                    exportBase_breastcancer    0.969012\n",
       "                    exportBase_bupa            0.719355\n",
       "                    exportBase_climate         0.923901\n",
       "                    exportBase_diabetes        0.764039\n",
       "                    exportBase_fertility       0.877778\n",
       "                    exportBase_german          0.763333\n",
       "                    exportBase_golub           0.748718\n",
       "                    exportBase_haberman        0.716364\n",
       "                    exportBase_heart           0.827041\n",
       "                    exportBase_parkinsons      0.909206\n",
       "                    exportBase_sonar           0.818065\n",
       "Name: accuracy, dtype: float64"
      ]
     },
     "execution_count": 6,
     "metadata": {},
     "output_type": "execute_result"
    }
   ],
   "source": [
    "df_results.groupby(['model', 'dataset'])['accuracy'].mean().iloc[:60]"
   ]
  }
 ],
 "metadata": {
  "kernelspec": {
   "display_name": "Mestrado",
   "language": "python",
   "name": "mestrado-env"
  },
  "language_info": {
   "codemirror_mode": {
    "name": "ipython",
    "version": 3
   },
   "file_extension": ".py",
   "mimetype": "text/x-python",
   "name": "python",
   "nbconvert_exporter": "python",
   "pygments_lexer": "ipython3",
   "version": "3.12.3"
  }
 },
 "nbformat": 4,
 "nbformat_minor": 2
}
